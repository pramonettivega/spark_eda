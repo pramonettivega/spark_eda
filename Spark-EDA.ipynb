{
 "cells": [
  {
   "cell_type": "markdown",
   "id": "fd1d52d9-d836-4699-b174-2f50f8f481b9",
   "metadata": {},
   "source": [
    "# Spark - Exploratory Data Analysis\n",
    "\n",
    "In this courselet, we will explore the use of Spark as a Data Science tool when working with Big Data. By the end of this courselet, you would be able to:\n",
    "\n",
    "- Perform a descriptive analysis\n",
    "- Compare the performance of Spark under different data formats (csv vs. parquet)\n",
    "- Identify the advantages of using Spark in a cluster, by relying on different optimization strategies.\n",
    "\n",
    "## What is Spark?\n",
    "\n",
    "[Apache Spark](https://spark.apache.org/) is an open-source engine used for the processing and analysis of large-scale data. Today, Spark is one of the most popular frameworks for the developement of data engineering, data science and machine learning tasks.\n",
    "\n",
    "## Advantages of Spark\n",
    "\n",
    "- Multi-language: It can be implemented through multiple-languages (Python, R, Java, Scala), making it flexible for diverse users\n",
    "- Speed: Spark leverages on RAM to perform it's computational tasks, which translates into faster data processing\n",
    "- Parallelism and fault tolerance: Spark is designed to be used in the context of a multi-node cluster. Therefore, its design aims for a parallel data processing across nodes, as well as fault tolerance in the case that a node presents a failure\n",
    "- Wide community of users: Given it's popularity, there is a huge open-source community, which allows Spark to be constantly developed and improved\n",
    "\n",
    "## Disadvantages of Spark\n",
    "\n",
    "- Memory consumption: Given that Spark uses RAM to optimize speed in processing, this can also lead to several instances of *OutOfMemory* error if not managed properly \n",
    "- Manual fine-tuning and optimization: To optimize the overall performance of Spark, the user must manually [tune the settings](https://www.databricks.com/glossary/spark-tuning) of the cluster in terms of hardware. This process is not straightforward and a inadequate setting up might result in a non-optimal perfomance\n",
    "- Inneficient management of small files: For cases of small datafiles, Spark is not an optimal framework, given the high transaction cost of distributing and collecting data across nodes. For the case of small datafiles, using Pandas or a more conventional approach is more efficient\n",
    "\n",
    "## Importing libraries and starting our Spark session.\n",
    "\n",
    "To start working, we are first going to import our main library and initialize both our [SparkSession](https://spark.apache.org/docs/latest/sql-getting-started.html#starting-point-sparksession) and our [SparkContext](https://spark.apache.org/docs/3.2.0/api/java/org/apache/spark/SparkContext.html)."
   ]
  },
  {
   "cell_type": "code",
   "execution_count": 1,
   "id": "b968789c-82a1-4388-a223-f272fdd686be",
   "metadata": {},
   "outputs": [],
   "source": [
    "import pyspark\n",
    "from pyspark.sql import SparkSession\n",
    "# Starting our Spark Session\n",
    "spark = SparkSession.builder \\\n",
    "    .appName(\"EDA Spark\") \\\n",
    "    .master(\"spark://spark-master:7077\") \\\n",
    "    .getOrCreate()\n",
    "\n",
    "# Starting our Spark Context\n",
    "sc = spark.sparkContext"
   ]
  },
  {
   "cell_type": "markdown",
   "id": "3c950710-0837-4333-a2ce-26b2efb9b537",
   "metadata": {},
   "source": [
    "## RDD\n",
    "\n",
    "The [Resilient Distributed Dataset (RDD)](https://spark.apache.org/docs/latest/rdd-programming-guide.html) is the main data structure in Spark. It consist of a collection of object distributed across the nodes of the cluster. This allows for the processes to be parallelized across the nodes, and to guarantee fault tolerance. RDD's posses two fundamental types of operations: **transformations**,  which are operations that convert RDD's into new RDD's, and **actions**, which return non-RDD values/objects.\n",
    "\n",
    "A fundamental piece of Spark's design is the concept of [lazy evaluation](https://towardsdatascience.com/3-reasons-why-sparks-lazy-evaluation-is-useful-ed06e27360c4). This concept refers to an execution plan in which Spark does not perform a computational task until explicitly intructred to do so. When we perform a transformation and create a new RDD, Spark does not perform any computation at that point. Instead, what it creates is an execution plan. It is not until we perform an action, when Spark actually executes the task and returns a new object. In this way, the user can perform as many transformations as desired, but non of them will be executed until an action is performed, achieving a more efficient use of the resources.\n",
    "\n",
    "Let's now work with an example RDD."
   ]
  },
  {
   "cell_type": "code",
   "execution_count": 2,
   "id": "0982051a-5fc4-4585-b1b3-91284c2e35c1",
   "metadata": {},
   "outputs": [
    {
     "data": {
      "text/plain": [
       "ParallelCollectionRDD[0] at readRDDFromFile at PythonRDD.scala:289"
      ]
     },
     "execution_count": 2,
     "metadata": {},
     "output_type": "execute_result"
    }
   ],
   "source": [
    "# We start by creating a list of values\n",
    "lst = [i for i in range(1000000)]\n",
    "# Executing the function \"parallelize\", converts our list into an RDD\n",
    "rdd = sc.parallelize(lst)\n",
    "rdd # As we will see, the representation of the RDD is not a list anymore"
   ]
  },
  {
   "cell_type": "code",
   "execution_count": 3,
   "id": "dc2ac0a8-9b88-4e51-820e-ebb2f6690198",
   "metadata": {},
   "outputs": [
    {
     "data": {
      "text/plain": [
       "PythonRDD[1] at RDD at PythonRDD.scala:53"
      ]
     },
     "execution_count": 3,
     "metadata": {},
     "output_type": "execute_result"
    }
   ],
   "source": [
    "# Performing a transformation. \n",
    "squared_rdd = rdd.map(lambda x: x**2) # Transforming our RDD into a new one with the values squared\n",
    "squared_rdd # As we stated previously, the previous transformation created a new RDD, but no computation has been performed"
   ]
  },
  {
   "cell_type": "code",
   "execution_count": 4,
   "id": "a4311726-4abb-41e6-ba86-2b3e437461b6",
   "metadata": {},
   "outputs": [
    {
     "data": {
      "text/plain": [
       "[0, 1, 4, 9, 16, 25, 36, 49, 64, 81, 100, 121, 144, 169, 196, 225]"
      ]
     },
     "execution_count": 4,
     "metadata": {},
     "output_type": "execute_result"
    }
   ],
   "source": [
    "squared_rdd = squared_rdd.collect() # Performing and action to collect our RDD into a list again\n",
    "squared_rdd[:16] # Now we have a list of squared values. We only show the first 16 values"
   ]
  },
  {
   "cell_type": "code",
   "execution_count": 5,
   "id": "3c721b3b-b3f1-4bb6-be60-c670573c3868",
   "metadata": {},
   "outputs": [
    {
     "data": {
      "text/plain": [
       "500000"
      ]
     },
     "execution_count": 5,
     "metadata": {},
     "output_type": "execute_result"
    }
   ],
   "source": [
    "# Another transformation\n",
    "filtered_rdd = rdd.filter(lambda x: x % 2 == 0) # Filtering our RDD into a new one with even numbers. This is a transformation\n",
    "filtered_rdd.count() # Returning the count of even numbers. This is our action"
   ]
  },
  {
   "cell_type": "markdown",
   "id": "b91ccb2d-5c6b-4ddf-940f-9a09e4b720a9",
   "metadata": {},
   "source": [
    "The previous example showed a series of tasks over a list which was transformed into an RDD. However, the creation of RDD's is not limited to lists. Multiple data sources can be transformed into RDD's to take advantage of the distribution principle. In the next cells of code, we are going to perform a very common task, which is counting the frequencies of words in a given text. For that, we are going to do the following:\n",
    "\n",
    "1. Install the nltk library to make use of their stopwords list\n",
    "2. Load our shakespeare.txt file, which is a compilation with all the works from William Shakespeare\n",
    "3. Perform a series of transformations, before calling an action and returning a list of tuples with the 10 most frequent words in Shakespeare works, and their frequency"
   ]
  },
  {
   "cell_type": "code",
   "execution_count": 6,
   "id": "28d3b368-5b79-4b73-8e8b-212342c1fbad",
   "metadata": {},
   "outputs": [],
   "source": [
    "!pip install nltk > NULL"
   ]
  },
  {
   "cell_type": "code",
   "execution_count": 7,
   "id": "33d173af-0faa-4cd5-9f25-bd50564d79dc",
   "metadata": {},
   "outputs": [
    {
     "name": "stderr",
     "output_type": "stream",
     "text": [
      "[nltk_data] Error loading stopwords: <urlopen error [SSL:\n",
      "[nltk_data]     UNEXPECTED_EOF_WHILE_READING] EOF occurred in\n",
      "[nltk_data]     violation of protocol (_ssl.c:1006)>\n"
     ]
    },
    {
     "data": {
      "text/plain": [
       "False"
      ]
     },
     "execution_count": 7,
     "metadata": {},
     "output_type": "execute_result"
    }
   ],
   "source": [
    "# Downloading the stopwords collection\n",
    "import nltk\n",
    "nltk.download('stopwords')"
   ]
  },
  {
   "cell_type": "code",
   "execution_count": 8,
   "id": "293b7309-d35a-4a3a-8c01-6f7b62d3d44d",
   "metadata": {},
   "outputs": [
    {
     "name": "stdout",
     "output_type": "stream",
     "text": [
      "['i', 'me', 'my', 'myself', 'we', 'our', 'ours', 'ourselves', 'you', \"you're\", \"you've\", \"you'll\", \"you'd\", 'your', 'yours', 'yourself', 'yourselves', 'he', 'him', 'his', 'himself', 'she', \"she's\", 'her', 'hers', 'herself', 'it', \"it's\", 'its', 'itself', 'they', 'them', 'their', 'theirs', 'themselves', 'what', 'which', 'who', 'whom', 'this', 'that', \"that'll\", 'these', 'those', 'am', 'is', 'are', 'was', 'were', 'be', 'been', 'being', 'have', 'has', 'had', 'having', 'do', 'does', 'did', 'doing', 'a', 'an', 'the', 'and', 'but', 'if', 'or', 'because', 'as', 'until', 'while', 'of', 'at', 'by', 'for', 'with', 'about', 'against', 'between', 'into', 'through', 'during', 'before', 'after', 'above', 'below', 'to', 'from', 'up', 'down', 'in', 'out', 'on', 'off', 'over', 'under', 'again', 'further', 'then', 'once', 'here', 'there', 'when', 'where', 'why', 'how', 'all', 'any', 'both', 'each', 'few', 'more', 'most', 'other', 'some', 'such', 'no', 'nor', 'not', 'only', 'own', 'same', 'so', 'than', 'too', 'very', 's', 't', 'can', 'will', 'just', 'don', \"don't\", 'should', \"should've\", 'now', 'd', 'll', 'm', 'o', 're', 've', 'y', 'ain', 'aren', \"aren't\", 'couldn', \"couldn't\", 'didn', \"didn't\", 'doesn', \"doesn't\", 'hadn', \"hadn't\", 'hasn', \"hasn't\", 'haven', \"haven't\", 'isn', \"isn't\", 'ma', 'mightn', \"mightn't\", 'mustn', \"mustn't\", 'needn', \"needn't\", 'shan', \"shan't\", 'shouldn', \"shouldn't\", 'wasn', \"wasn't\", 'weren', \"weren't\", 'won', \"won't\", 'wouldn', \"wouldn't\"]\n"
     ]
    }
   ],
   "source": [
    "from nltk.corpus import stopwords\n",
    "\n",
    "stop_words = stopwords.words('english')\n",
    "print(stop_words)"
   ]
  },
  {
   "cell_type": "code",
   "execution_count": 9,
   "id": "2beac4a3-5df9-40d3-8410-b9ef12ef71d5",
   "metadata": {},
   "outputs": [
    {
     "data": {
      "text/plain": [
       "DataFrame[value: string]"
      ]
     },
     "execution_count": 9,
     "metadata": {},
     "output_type": "execute_result"
    }
   ],
   "source": [
    "shakespeare = spark.read.text(\"data/shakespeare.txt\") \n",
    "shakespeare # By using the read.text function, our txt file is read as a DataFrame. We will explore further on DataFrames after this example."
   ]
  },
  {
   "cell_type": "code",
   "execution_count": 10,
   "id": "a66b820c-84ad-4fd4-b26a-9fba9ffc7df8",
   "metadata": {},
   "outputs": [
    {
     "data": {
      "text/plain": [
       "[('thou', 4247),\n",
       " ('thy', 3630),\n",
       " ('shall', 3016),\n",
       " ('good', 2046),\n",
       " ('would', 1974),\n",
       " ('Enter', 1926),\n",
       " ('thee', 1780),\n",
       " (\"I'll\", 1737),\n",
       " ('hath', 1614),\n",
       " ('like', 1453)]"
      ]
     },
     "execution_count": 10,
     "metadata": {},
     "output_type": "execute_result"
    }
   ],
   "source": [
    "top_words = (\n",
    "    shakespeare\n",
    "    .rdd.flatMap(lambda line: line[0].split(\" \")) # First, we convert the DataFrame into an RDD, we \"flatten\" the elements of the RDD and split them by space. Basically, we make a list of all the words\n",
    "    .filter(lambda word: word.lower() not in stop_words and word != \"\") # Now we filter each word lowered, removing stop words and empty strings \n",
    "    .map(lambda word: (word, 1)) # For each word, we create a tuple with the word (which represents the key) and a value of 1 as a count. This tuple represents a Key-Value pair (K,V)\n",
    "    .reduceByKey(lambda x, y: x + y) #For each Key, we perform the specified function on it's values. In this case, it is a sum of the Values with the same Key (x+y)\n",
    "    .sortBy(lambda x: x[1], ascending=False) # We sort the tuples by the count, in descending order\n",
    "    .take(10) # It is here where we perform an action and return the first 10 tuples\n",
    ")\n",
    "\n",
    "top_words"
   ]
  },
  {
   "cell_type": "markdown",
   "id": "f02fcc11-3a0f-4533-8b01-74880fb6848d",
   "metadata": {},
   "source": [
    "## DataFrames\n",
    "\n",
    "Another essential data structure in Spark, particularly for data analysis, are DataFrames, or Distributed DataFrames. This type of DataFrame is built on top of RDD's, but with the advantage of having a better defined structure, providing a schema and facilitating the interaction with the data and query execution. It also follows Spark's principle of distributed data processing across the different nodes.\n",
    "\n",
    "For this courselet, we are exploring the taxi trips reported to the City of Chicago in 2020. This data is publicly available through the [Chicago Data Portal](https://data.cityofchicago.org/en/Transportation/Taxi-Trips-2020/r2u4-wwk3/about_data). \n",
    "\n",
    "We will proceed to load our data."
   ]
  },
  {
   "cell_type": "code",
   "execution_count": 11,
   "id": "59370e32-2159-40db-aa4e-1ec93b84e3a1",
   "metadata": {},
   "outputs": [],
   "source": [
    "df = spark.read.csv(\"data/chicago-taxi-2020.csv\",header=True, inferSchema=True)"
   ]
  },
  {
   "cell_type": "markdown",
   "id": "c4801a22-cbcf-42de-a78d-3bb97ce4e473",
   "metadata": {},
   "source": [
    "As the our first actions, we can print the schema of the data, and count the number of rows."
   ]
  },
  {
   "cell_type": "code",
   "execution_count": 12,
   "id": "c5fe3471-4116-4b16-9c5e-715b4a49ca29",
   "metadata": {},
   "outputs": [
    {
     "name": "stdout",
     "output_type": "stream",
     "text": [
      "root\n",
      " |-- Trip ID: string (nullable = true)\n",
      " |-- Taxi ID: string (nullable = true)\n",
      " |-- Trip Start Timestamp: string (nullable = true)\n",
      " |-- Trip End Timestamp: string (nullable = true)\n",
      " |-- Trip Seconds: integer (nullable = true)\n",
      " |-- Trip Miles: double (nullable = true)\n",
      " |-- Pickup Census Tract: long (nullable = true)\n",
      " |-- Dropoff Census Tract: long (nullable = true)\n",
      " |-- Pickup Community Area: integer (nullable = true)\n",
      " |-- Dropoff Community Area: integer (nullable = true)\n",
      " |-- Fare: double (nullable = true)\n",
      " |-- Tips: double (nullable = true)\n",
      " |-- Tolls: double (nullable = true)\n",
      " |-- Extras: double (nullable = true)\n",
      " |-- Trip Total: double (nullable = true)\n",
      " |-- Payment Type: string (nullable = true)\n",
      " |-- Company: string (nullable = true)\n",
      " |-- Pickup Centroid Latitude: double (nullable = true)\n",
      " |-- Pickup Centroid Longitude: double (nullable = true)\n",
      " |-- Pickup Centroid Location: string (nullable = true)\n",
      " |-- Dropoff Centroid Latitude: double (nullable = true)\n",
      " |-- Dropoff Centroid Longitude: double (nullable = true)\n",
      " |-- Dropoff Centroid  Location: string (nullable = true)\n",
      "\n"
     ]
    }
   ],
   "source": [
    "df.printSchema()"
   ]
  },
  {
   "cell_type": "code",
   "execution_count": 13,
   "id": "6f5f1714-17e2-4f1c-82cc-7850a00cae04",
   "metadata": {},
   "outputs": [
    {
     "data": {
      "text/plain": [
       "3889032"
      ]
     },
     "execution_count": 13,
     "metadata": {},
     "output_type": "execute_result"
    }
   ],
   "source": [
    "df.count()"
   ]
  },
  {
   "cell_type": "code",
   "execution_count": 14,
   "id": "2404dccd-2e9f-4251-a7be-eac409016957",
   "metadata": {},
   "outputs": [
    {
     "data": {
      "text/plain": [
       "DataFrame[Trip ID: string, Trip Total: double]"
      ]
     },
     "execution_count": 14,
     "metadata": {},
     "output_type": "execute_result"
    }
   ],
   "source": [
    "# We can take a subset of the data\n",
    "df[['Trip ID', 'Trip Total']]"
   ]
  },
  {
   "cell_type": "markdown",
   "id": "84763ee2-3ac3-488b-a406-b4673d28abd5",
   "metadata": {},
   "source": [
    "As it happens with RDD's, dataframes also follow the principle of lazy evaluation. In this case, when we called for a subsetting of the dataframe, Spark only returned a logical representation of it. If we want to actually display values, we must perform an action. "
   ]
  },
  {
   "cell_type": "code",
   "execution_count": 15,
   "id": "ed77c520-4db3-4a30-8b08-79132d79afa6",
   "metadata": {},
   "outputs": [
    {
     "name": "stdout",
     "output_type": "stream",
     "text": [
      "+--------------------+----------+\n",
      "|             Trip ID|Trip Total|\n",
      "+--------------------+----------+\n",
      "|16c7456d99031528c...|     12.27|\n",
      "|472eef1d5c7a5e5ee...|      13.0|\n",
      "|031a4d882fb3315a4...|      14.8|\n",
      "|3c416c246829dfb3f...|      9.75|\n",
      "|3c0a22971ae070ce3...|      6.75|\n",
      "|451beabd5dd8ffc54...|     12.25|\n",
      "|60da9b02b3297dc58...|      21.6|\n",
      "|64bd098989d7ad38a...|      12.0|\n",
      "|8e2fa4ad2d00c7372...|     25.25|\n",
      "|9323dfcf3aa6b0e8c...|      7.75|\n",
      "+--------------------+----------+\n",
      "only showing top 10 rows\n",
      "\n"
     ]
    }
   ],
   "source": [
    "df[['Trip ID', 'Trip Total']].show(10) # We are going to show the first 10 rows"
   ]
  },
  {
   "cell_type": "markdown",
   "id": "d3c83cf6-8a34-49e5-b5d8-9c06fe1b79f4",
   "metadata": {},
   "source": [
    "# Descriptive Statistics\n",
    "\n",
    "To support our operations, we are going to use the collections of functions provided by pyspark.sql. You can consult the full list in the [source documentation.](https://spark.apache.org/docs/latest/api/python/reference/pyspark.sql/api/pyspark.sql.functions.max.html)"
   ]
  },
  {
   "cell_type": "code",
   "execution_count": 16,
   "id": "2c63ade3-208e-4d09-8248-11ab0035e557",
   "metadata": {},
   "outputs": [],
   "source": [
    "import pyspark.sql.functions as F"
   ]
  },
  {
   "cell_type": "code",
   "execution_count": 17,
   "id": "45e1b324-6d46-4e82-a6ac-54fdc2d0d579",
   "metadata": {},
   "outputs": [
    {
     "data": {
      "text/plain": [
       "DataFrame[avg(Trip Total): double]"
      ]
     },
     "execution_count": 17,
     "metadata": {},
     "output_type": "execute_result"
    }
   ],
   "source": [
    "# Mean of a column\n",
    "df.select(F.mean(\"Trip Total\"))"
   ]
  },
  {
   "cell_type": "markdown",
   "id": "5d7fa356-08d8-4f0a-b8d0-74433b8b0afb",
   "metadata": {},
   "source": [
    "As you can observe, our previous line of code has not returned the mean yet. Instead, it returned a DataFrame object. We must perform an action to display the mean. The following line of code extends the previous one with the extension of the *show.()* action."
   ]
  },
  {
   "cell_type": "code",
   "execution_count": 18,
   "id": "6f0d835b-6929-427f-8ae8-801357a9382f",
   "metadata": {},
   "outputs": [
    {
     "name": "stdout",
     "output_type": "stream",
     "text": [
      "+------------------+\n",
      "|   avg(Trip Total)|\n",
      "+------------------+\n",
      "|18.368485537583467|\n",
      "+------------------+\n",
      "\n"
     ]
    }
   ],
   "source": [
    "df.select(F.mean(\"Trip Total\")).show()"
   ]
  },
  {
   "cell_type": "code",
   "execution_count": 19,
   "id": "db1d2064-e578-4171-86ae-bfaf52acb595",
   "metadata": {},
   "outputs": [
    {
     "name": "stdout",
     "output_type": "stream",
     "text": [
      "+------------------+-----------------+\n",
      "|   avg(Trip Total)|avg(Trip Seconds)|\n",
      "+------------------+-----------------+\n",
      "|18.368485537583467|874.7527292080763|\n",
      "+------------------+-----------------+\n",
      "\n"
     ]
    }
   ],
   "source": [
    "# Mean of multiple columns\n",
    "df.select(F.mean(\"Trip Total\"), F.mean(\"Trip Seconds\")).show()"
   ]
  },
  {
   "cell_type": "code",
   "execution_count": 20,
   "id": "b2dc5745-4f87-4f84-b6f8-bfcee9abe39c",
   "metadata": {},
   "outputs": [
    {
     "name": "stdout",
     "output_type": "stream",
     "text": [
      "+---------------+\n",
      "|max(Trip Total)|\n",
      "+---------------+\n",
      "|        9955.55|\n",
      "+---------------+\n",
      "\n"
     ]
    }
   ],
   "source": [
    "# Max value of a column\n",
    "df.select(F.max(\"Trip Total\")).show()"
   ]
  },
  {
   "cell_type": "markdown",
   "id": "ac515ed9-b94b-4e03-812f-0040cdfe37ed",
   "metadata": {},
   "source": [
    "We can also perform more complex analysis by grouping information and performing multiple tasks in the line of code."
   ]
  },
  {
   "cell_type": "code",
   "execution_count": 21,
   "id": "ced2350f-6b33-4416-b94e-3dd0a45bff4a",
   "metadata": {},
   "outputs": [
    {
     "name": "stdout",
     "output_type": "stream",
     "text": [
      "+---------------------+------------------+\n",
      "|Pickup Community Area|    AVG Trip Total|\n",
      "+---------------------+------------------+\n",
      "|                    1|14.904347051776057|\n",
      "|                    2| 14.70952342712419|\n",
      "|                    3|13.594861907566413|\n",
      "|                    4|13.487912290478846|\n",
      "|                    5|13.498661423394251|\n",
      "|                    6|13.551174231054802|\n",
      "|                    7|13.730048243649625|\n",
      "|                    8| 12.73943802183018|\n",
      "|                    9|19.907711711711713|\n",
      "|                   10|19.228908232118755|\n",
      "|                   11|15.682493122165216|\n",
      "|                   12| 20.35279255319149|\n",
      "|                   13|14.851200775475585|\n",
      "|                   14|15.245882238505935|\n",
      "|                   15|14.950861089792784|\n",
      "|                   16|14.187686900245485|\n",
      "|                   17|19.169364141765108|\n",
      "|                   18|19.993140495867767|\n",
      "|                   19|16.654314882756417|\n",
      "|                   20| 18.53338563956253|\n",
      "+---------------------+------------------+\n",
      "only showing top 20 rows\n",
      "\n"
     ]
    }
   ],
   "source": [
    "# Calculating the average trip total by community area.\n",
    "df.groupBy(\"Pickup Community Area\") \\\n",
    "    .agg(F.avg(\"Trip Total\")\n",
    "    .alias(\"AVG Trip Total\")) \\\n",
    "    .na.drop(subset=[\"Pickup Community Area\"]) \\\n",
    "    .orderBy(F.col(\"Pickup Community Area\")).show()"
   ]
  },
  {
   "cell_type": "code",
   "execution_count": 22,
   "id": "ca0edcb0-987c-4370-a4db-73c059d1df02",
   "metadata": {},
   "outputs": [
    {
     "name": "stdout",
     "output_type": "stream",
     "text": [
      "+--------------------+--------------------+---------------------------------+-------------------------------+-------------------------+-----------------------+--------------------------------+---------------------------------+----------------------------------+-----------------------------------+--------------------+--------------------+--------------------+--------------------+-----------------------+-------------------------+--------------------+-------------------------------------+--------------------------------------+-------------------------------------+--------------------------------------+---------------------------------------+---------------------------------------+\n",
      "|Trip ID_missing_rate|Taxi ID_missing_rate|Trip Start Timestamp_missing_rate|Trip End Timestamp_missing_rate|Trip Seconds_missing_rate|Trip Miles_missing_rate|Pickup Census Tract_missing_rate|Dropoff Census Tract_missing_rate|Pickup Community Area_missing_rate|Dropoff Community Area_missing_rate|   Fare_missing_rate|   Tips_missing_rate|  Tolls_missing_rate| Extras_missing_rate|Trip Total_missing_rate|Payment Type_missing_rate|Company_missing_rate|Pickup Centroid Latitude_missing_rate|Pickup Centroid Longitude_missing_rate|Pickup Centroid Location_missing_rate|Dropoff Centroid Latitude_missing_rate|Dropoff Centroid Longitude_missing_rate|Dropoff Centroid  Location_missing_rate|\n",
      "+--------------------+--------------------+---------------------------------+-------------------------------+-------------------------+-----------------------+--------------------------------+---------------------------------+----------------------------------+-----------------------------------+--------------------+--------------------+--------------------+--------------------+-----------------------+-------------------------+--------------------+-------------------------------------+--------------------------------------+-------------------------------------+--------------------------------------+---------------------------------------+---------------------------------------+\n",
      "|                 0.0|                 0.0|                              0.0|           1.475945685198709...|     3.982996282879680...|   7.714001838965423E-6|              0.5415550707733956|               0.5447622956046646|                0.0717186178977185|                0.09483825280943947|8.536828701843913E-5|8.536828701843913E-5|8.536828701843913E-5|8.536828701843913E-5|   8.536828701843913E-5|                      0.0|                 0.0|                  0.07153811025468548|                   0.07153811025468548|                  0.07153811025468548|                   0.09311288773144577|                    0.09311288773144577|                    0.09311288773144577|\n",
      "+--------------------+--------------------+---------------------------------+-------------------------------+-------------------------+-----------------------+--------------------------------+---------------------------------+----------------------------------+-----------------------------------+--------------------+--------------------+--------------------+--------------------+-----------------------+-------------------------+--------------------+-------------------------------------+--------------------------------------+-------------------------------------+--------------------------------------+---------------------------------------+---------------------------------------+\n",
      "\n"
     ]
    }
   ],
   "source": [
    "# Evaluatin the missingness rate per column\n",
    "missingness = df.agg(*[(1 - (F.count(F.col(c)) / F.count('*')))\n",
    "         .alias(c + '_missing_rate') for c in df.columns])\n",
    "missingness.show() "
   ]
  },
  {
   "cell_type": "markdown",
   "id": "a7dea2f1-c1cc-421e-b599-affcfaf8f104",
   "metadata": {},
   "source": [
    "Results don't look good right? They are not readable at all. Maybe we should perform a different type of action method. \n",
    "\n",
    "The *.toPandas()* method allows us to convert an RDD into a Pandas dataframe. It is especially recommended if we expect the output of our query to be small. Let's use that to show our missingness rates:"
   ]
  },
  {
   "cell_type": "code",
   "execution_count": 23,
   "id": "78588eec-3aca-40d3-9cc4-cf86a9737d61",
   "metadata": {},
   "outputs": [
    {
     "data": {
      "text/html": [
       "<div>\n",
       "<style scoped>\n",
       "    .dataframe tbody tr th:only-of-type {\n",
       "        vertical-align: middle;\n",
       "    }\n",
       "\n",
       "    .dataframe tbody tr th {\n",
       "        vertical-align: top;\n",
       "    }\n",
       "\n",
       "    .dataframe thead th {\n",
       "        text-align: right;\n",
       "    }\n",
       "</style>\n",
       "<table border=\"1\" class=\"dataframe\">\n",
       "  <thead>\n",
       "    <tr style=\"text-align: right;\">\n",
       "      <th></th>\n",
       "      <th>Trip ID_missing_rate</th>\n",
       "      <th>Taxi ID_missing_rate</th>\n",
       "      <th>Trip Start Timestamp_missing_rate</th>\n",
       "      <th>Trip End Timestamp_missing_rate</th>\n",
       "      <th>Trip Seconds_missing_rate</th>\n",
       "      <th>Trip Miles_missing_rate</th>\n",
       "      <th>Pickup Census Tract_missing_rate</th>\n",
       "      <th>Dropoff Census Tract_missing_rate</th>\n",
       "      <th>Pickup Community Area_missing_rate</th>\n",
       "      <th>Dropoff Community Area_missing_rate</th>\n",
       "      <th>...</th>\n",
       "      <th>Extras_missing_rate</th>\n",
       "      <th>Trip Total_missing_rate</th>\n",
       "      <th>Payment Type_missing_rate</th>\n",
       "      <th>Company_missing_rate</th>\n",
       "      <th>Pickup Centroid Latitude_missing_rate</th>\n",
       "      <th>Pickup Centroid Longitude_missing_rate</th>\n",
       "      <th>Pickup Centroid Location_missing_rate</th>\n",
       "      <th>Dropoff Centroid Latitude_missing_rate</th>\n",
       "      <th>Dropoff Centroid Longitude_missing_rate</th>\n",
       "      <th>Dropoff Centroid  Location_missing_rate</th>\n",
       "    </tr>\n",
       "  </thead>\n",
       "  <tbody>\n",
       "    <tr>\n",
       "      <th>0</th>\n",
       "      <td>0.0</td>\n",
       "      <td>0.0</td>\n",
       "      <td>0.0</td>\n",
       "      <td>0.000148</td>\n",
       "      <td>0.000398</td>\n",
       "      <td>0.000008</td>\n",
       "      <td>0.541555</td>\n",
       "      <td>0.544762</td>\n",
       "      <td>0.071719</td>\n",
       "      <td>0.094838</td>\n",
       "      <td>...</td>\n",
       "      <td>0.000085</td>\n",
       "      <td>0.000085</td>\n",
       "      <td>0.0</td>\n",
       "      <td>0.0</td>\n",
       "      <td>0.071538</td>\n",
       "      <td>0.071538</td>\n",
       "      <td>0.071538</td>\n",
       "      <td>0.093113</td>\n",
       "      <td>0.093113</td>\n",
       "      <td>0.093113</td>\n",
       "    </tr>\n",
       "  </tbody>\n",
       "</table>\n",
       "<p>1 rows × 23 columns</p>\n",
       "</div>"
      ],
      "text/plain": [
       "   Trip ID_missing_rate  Taxi ID_missing_rate  \\\n",
       "0                   0.0                   0.0   \n",
       "\n",
       "   Trip Start Timestamp_missing_rate  Trip End Timestamp_missing_rate  \\\n",
       "0                                0.0                         0.000148   \n",
       "\n",
       "   Trip Seconds_missing_rate  Trip Miles_missing_rate  \\\n",
       "0                   0.000398                 0.000008   \n",
       "\n",
       "   Pickup Census Tract_missing_rate  Dropoff Census Tract_missing_rate  \\\n",
       "0                          0.541555                           0.544762   \n",
       "\n",
       "   Pickup Community Area_missing_rate  Dropoff Community Area_missing_rate  \\\n",
       "0                            0.071719                             0.094838   \n",
       "\n",
       "   ...  Extras_missing_rate  Trip Total_missing_rate  \\\n",
       "0  ...             0.000085                 0.000085   \n",
       "\n",
       "   Payment Type_missing_rate  Company_missing_rate  \\\n",
       "0                        0.0                   0.0   \n",
       "\n",
       "   Pickup Centroid Latitude_missing_rate  \\\n",
       "0                               0.071538   \n",
       "\n",
       "   Pickup Centroid Longitude_missing_rate  \\\n",
       "0                                0.071538   \n",
       "\n",
       "   Pickup Centroid Location_missing_rate  \\\n",
       "0                               0.071538   \n",
       "\n",
       "   Dropoff Centroid Latitude_missing_rate  \\\n",
       "0                                0.093113   \n",
       "\n",
       "   Dropoff Centroid Longitude_missing_rate  \\\n",
       "0                                 0.093113   \n",
       "\n",
       "   Dropoff Centroid  Location_missing_rate  \n",
       "0                                 0.093113  \n",
       "\n",
       "[1 rows x 23 columns]"
      ]
     },
     "execution_count": 23,
     "metadata": {},
     "output_type": "execute_result"
    }
   ],
   "source": [
    "missingness.toPandas()"
   ]
  },
  {
   "cell_type": "markdown",
   "id": "d79ef1f1-d4e7-4dfc-93e8-27cc5805183b",
   "metadata": {},
   "source": [
    "Much better!"
   ]
  },
  {
   "cell_type": "markdown",
   "id": "83b3e21d-2852-47b1-b00e-737549c9016e",
   "metadata": {},
   "source": [
    "# Spark SQL\n",
    "\n",
    "One of the main features in Spark is the incorporation of an SQL module which allows us to analyze strcutured data through the use of SQL Queries. Let's take a look at some examples."
   ]
  },
  {
   "cell_type": "code",
   "execution_count": 24,
   "id": "cc7bdac0-f75e-4097-856c-432df5e33b9f",
   "metadata": {},
   "outputs": [],
   "source": [
    "df.createOrReplaceTempView(\"trips\") # We create this temporary view so Spark recognizes our DataFrame as a table when writing queries."
   ]
  },
  {
   "cell_type": "code",
   "execution_count": 25,
   "id": "6a0a8190-5aee-43ac-883d-9fe68b4b7d7f",
   "metadata": {},
   "outputs": [
    {
     "name": "stdout",
     "output_type": "stream",
     "text": [
      "+--------------------+\n",
      "|             Taxi ID|\n",
      "+--------------------+\n",
      "|687e3ef9daf087b79...|\n",
      "+--------------------+\n",
      "\n"
     ]
    }
   ],
   "source": [
    "# Select the Taxi ID that charged the most expensive trip\n",
    "spark.sql(\"\"\"\n",
    "    SELECT `Taxi ID`\n",
    "    FROM trips\n",
    "    WHERE `Trip Total` = (SELECT MAX(`Trip Total`) FROM trips)\"\"\").show()"
   ]
  },
  {
   "cell_type": "code",
   "execution_count": 26,
   "id": "c21c531a-b9ee-4e58-8708-82ab5c8cca81",
   "metadata": {},
   "outputs": [
    {
     "name": "stdout",
     "output_type": "stream",
     "text": [
      "+--------------------+------------------+\n",
      "|             company|          avg_fare|\n",
      "+--------------------+------------------+\n",
      "|    Metro Jet Taxi A| 294.1724863192956|\n",
      "|     Chicago Taxicab| 59.78360585544373|\n",
      "|Suburban Dispatch...|38.412117919486995|\n",
      "|4053 - 40193 Adwa...| 27.02038626609442|\n",
      "|4623 - 27290 Jay Kim|26.991394148020653|\n",
      "+--------------------+------------------+\n",
      "\n"
     ]
    }
   ],
   "source": [
    "# Select the 5 companies with the highest avg fares\n",
    "spark.sql(\"\"\"\n",
    "    SELECT company, AVG(Fare) as avg_fare\n",
    "    FROM trips\n",
    "    GROUP BY Company\n",
    "    ORDER BY avg_fare DESC\n",
    "    LIMIT 5\n",
    "\"\"\").show()"
   ]
  },
  {
   "cell_type": "markdown",
   "id": "d9f3e4bd-f692-4bc5-9ac3-a62a1b88fedd",
   "metadata": {},
   "source": [
    "## Visualizing Data\n",
    "\n",
    "Spark does not count with a dedicated library or API for data visualization. However, we can generate non-RDD objects and plot them through the use of conventional python libraries like Matpolib or Seaborn. "
   ]
  },
  {
   "cell_type": "code",
   "execution_count": 27,
   "id": "0629f80b-ea1c-4f92-aecd-78b36472a749",
   "metadata": {},
   "outputs": [
    {
     "data": {
      "image/png": "[encoded data removed]",
      "text/plain": [
       "<Figure size 640x480 with 1 Axes>"
      ]
     },
     "metadata": {},
     "output_type": "display_data"
    }
   ],
   "source": [
    "import seaborn as sns\n",
    "import matplotlib.pyplot as plt\n",
    "import pandas as pd\n",
    "\n",
    "# We create a list of for each column to visualize.\n",
    "trip_seconds = df.select('Trip Seconds').rdd.flatMap(lambda x: x).collect() \n",
    "trip_total = df.select('Trip Total').rdd.flatMap(lambda x: x).collect()\n",
    "\n",
    "sns.scatterplot(x=trip_seconds, y=trip_total)\n",
    "plt.title('Scatter Plot of Trip Seconds vs Trip Total')\n",
    "plt.xlabel('Trip Seconds')\n",
    "plt.ylabel('Trip Total')\n",
    "plt.show()"
   ]
  },
  {
   "cell_type": "code",
   "execution_count": 28,
   "id": "9b8a36c4-7fda-4bfd-b2e4-79e9979056e6",
   "metadata": {},
   "outputs": [
    {
     "data": {
      "image/png": "[encoded data removed]",
      "text/plain": [
       "<Figure size 640x480 with 1 Axes>"
      ]
     },
     "metadata": {},
     "output_type": "display_data"
    }
   ],
   "source": [
    "pandas_df = spark.sql(\"\"\"\n",
    "    SELECT company, AVG(`Trip Miles`) as avg_trip\n",
    "    FROM trips\n",
    "    GROUP BY Company\n",
    "    ORDER BY avg_trip DESC\n",
    "    LIMIT 5\n",
    "\"\"\").toPandas() # Another approach is to query our table, and create a simple PandasDF from it to plot it.\n",
    "\n",
    "sns.barplot(x='company', y='avg_trip', data=pandas_df)\n",
    "plt.title('Top 5 Companies with the longest AVG Trips')\n",
    "plt.xticks(rotation=45)\n",
    "plt.show()"
   ]
  },
  {
   "cell_type": "markdown",
   "id": "3bf757f2-3664-40af-9edf-904d275ef5e0",
   "metadata": {},
   "source": [
    "## CSV vs Parquet\n",
    "\n",
    "So far, we have returned some simple results using the data in csv format. However, in some cases, data might be available for our convenience in the [Parquet file format](https://parquet.apache.org/#td-block-1). Given it's features and design, this open-source format allows Spark to make faster reads to the data, and tends to have smaller file sizes compared to csv. As we have our taxis data also in parquet format, we are going to load a new DataFrame using thise file, and compare the execution time between the csv DataFrame and the Parquet DataFrame. "
   ]
  },
  {
   "cell_type": "code",
   "execution_count": 29,
   "id": "8b0cc951-8f18-4e3e-9344-9b1c49c49c52",
   "metadata": {},
   "outputs": [
    {
     "name": "stdout",
     "output_type": "stream",
     "text": [
      "root\n",
      " |-- Trip ID: string (nullable = true)\n",
      " |-- Taxi ID: string (nullable = true)\n",
      " |-- Trip Start Timestamp: string (nullable = true)\n",
      " |-- Trip End Timestamp: string (nullable = true)\n",
      " |-- Trip Seconds: double (nullable = true)\n",
      " |-- Trip Miles: double (nullable = true)\n",
      " |-- Pickup Census Tract: double (nullable = true)\n",
      " |-- Dropoff Census Tract: double (nullable = true)\n",
      " |-- Pickup Community Area: double (nullable = true)\n",
      " |-- Dropoff Community Area: double (nullable = true)\n",
      " |-- Fare: double (nullable = true)\n",
      " |-- Tips: double (nullable = true)\n",
      " |-- Tolls: double (nullable = true)\n",
      " |-- Extras: double (nullable = true)\n",
      " |-- Trip Total: double (nullable = true)\n",
      " |-- Payment Type: string (nullable = true)\n",
      " |-- Company: string (nullable = true)\n",
      " |-- Pickup Centroid Latitude: double (nullable = true)\n",
      " |-- Pickup Centroid Longitude: double (nullable = true)\n",
      " |-- Pickup Centroid Location: string (nullable = true)\n",
      " |-- Dropoff Centroid Latitude: double (nullable = true)\n",
      " |-- Dropoff Centroid Longitude: double (nullable = true)\n",
      " |-- Dropoff Centroid  Location: string (nullable = true)\n",
      "\n"
     ]
    }
   ],
   "source": [
    "df_parquet = spark.read.parquet(\"data/chicago-taxi-2020.parquet\",header=True, inferSchema=True)\n",
    "df_parquet.printSchema() # We confirm the schema is the same"
   ]
  },
  {
   "cell_type": "code",
   "execution_count": 30,
   "id": "fb32cffd-ff29-4e1f-bfbc-158e1b524390",
   "metadata": {},
   "outputs": [
    {
     "name": "stdout",
     "output_type": "stream",
     "text": [
      "+---------------------+------------------+\n",
      "|Pickup Community Area|    AVG Trip Total|\n",
      "+---------------------+------------------+\n",
      "|                    1| 14.90434705177606|\n",
      "|                    2|14.709523427124191|\n",
      "|                    3|13.594861907566411|\n",
      "|                    4|13.487912290478842|\n",
      "|                    5| 13.49866142339425|\n",
      "|                    6|13.551174231054802|\n",
      "|                    7|13.730048243649621|\n",
      "|                    8|12.739438021830178|\n",
      "|                    9|19.907711711711713|\n",
      "|                   10| 19.22890823211876|\n",
      "|                   11|15.682493122165216|\n",
      "|                   12|20.352792553191488|\n",
      "|                   13|14.851200775475583|\n",
      "|                   14|15.245882238505933|\n",
      "|                   15|14.950861089792786|\n",
      "|                   16| 14.18768690024548|\n",
      "|                   17|19.169364141765115|\n",
      "|                   18|19.993140495867774|\n",
      "|                   19| 16.65431488275642|\n",
      "|                   20| 18.53338563956253|\n",
      "+---------------------+------------------+\n",
      "only showing top 20 rows\n",
      "\n",
      "Execution Time (CSV): 3.99566912651062\n",
      "\n",
      "+---------------------+------------------+\n",
      "|Pickup Community Area|    AVG Trip Total|\n",
      "+---------------------+------------------+\n",
      "|                  1.0|14.904347051776078|\n",
      "|                  2.0|14.709523427124203|\n",
      "|                  3.0|13.594861907566404|\n",
      "|                  4.0|13.487912290478853|\n",
      "|                  5.0|13.498661423394244|\n",
      "|                  6.0|13.551174231054809|\n",
      "|                  7.0|13.730048243649643|\n",
      "|                  8.0|12.739438021830141|\n",
      "|                  9.0|19.907711711711713|\n",
      "|                 10.0|19.228908232118755|\n",
      "|                 11.0| 15.68249312216521|\n",
      "|                 12.0|20.352792553191488|\n",
      "|                 13.0|14.851200775475576|\n",
      "|                 14.0|15.245882238505937|\n",
      "|                 15.0|14.950861089792784|\n",
      "|                 16.0|14.187686900245485|\n",
      "|                 17.0| 19.16936414176512|\n",
      "|                 18.0| 19.99314049586777|\n",
      "|                 19.0| 16.65431488275642|\n",
      "|                 20.0| 18.53338563956253|\n",
      "+---------------------+------------------+\n",
      "only showing top 20 rows\n",
      "\n",
      "Execution Time (Parquet): 0.8524997234344482\n"
     ]
    }
   ],
   "source": [
    "import time\n",
    "\n",
    "# For this comparison, we are executing our previous query of calculating the avg fare grouped by Pickup Community Area\n",
    "\n",
    "# CSV Performance\n",
    "start_csv = time.time()\n",
    "df.groupBy(\"Pickup Community Area\") \\\n",
    "    .agg(F.avg(\"Trip Total\") \\\n",
    "    .alias(\"AVG Trip Total\")) \\\n",
    "    .na.drop(subset=[\"Pickup Community Area\"])\\\n",
    "    .orderBy(F.col('Pickup Community Area')).show()\n",
    "end_csv = time.time()\n",
    "total_csv = end_csv - start_csv\n",
    "print(f\"Execution Time (CSV): {total_csv}\\n\")\n",
    "\n",
    "# Parquet Performance\n",
    "start_parquet = time.time()\n",
    "df_parquet.groupBy(\"Pickup Community Area\") \\\n",
    "    .agg(F.avg(\"Trip Total\") \\\n",
    "    .alias(\"AVG Trip Total\")) \\\n",
    "    .na.drop(subset=[\"Pickup Community Area\"])\\\n",
    "    .orderBy(F.col('Pickup Community Area')).show()\n",
    "end_parquet = time.time()\n",
    "total_parquet = end_parquet - start_parquet\n",
    "print(f\"Execution Time (Parquet): {total_parquet}\")"
   ]
  },
  {
   "cell_type": "markdown",
   "id": "df2da3be-8cdf-48bf-8314-1ae6b8228fe9",
   "metadata": {},
   "source": [
    "As we see, in this first example, using a parquet format resulted in a faster execution, providing the same results. Let's look at a second example."
   ]
  },
  {
   "cell_type": "code",
   "execution_count": 31,
   "id": "ed98d6b9-bed6-4daf-8773-7662b5eae80d",
   "metadata": {},
   "outputs": [
    {
     "name": "stdout",
     "output_type": "stream",
     "text": [
      "+------------------+-----------------+\n",
      "|   avg(Trip Total)|avg(Trip Seconds)|\n",
      "+------------------+-----------------+\n",
      "|18.368485537583467|874.7527292080763|\n",
      "+------------------+-----------------+\n",
      "\n",
      "Execution Time (CSV): 3.7731873989105225\n",
      "\n",
      "+------------------+-----------------+\n",
      "|   avg(Trip Total)|avg(Trip Seconds)|\n",
      "+------------------+-----------------+\n",
      "|18.368485537584426|874.7527292080763|\n",
      "+------------------+-----------------+\n",
      "\n",
      "Execution Time (CSV): 0.32906341552734375\n"
     ]
    }
   ],
   "source": [
    "# A more simple example, returning the avg trip total and the avg trip duration\n",
    "\n",
    "# CSV Performance\n",
    "start_csv = time.time()\n",
    "df.select(F.mean(\"Trip Total\"), F.mean(\"Trip Seconds\")).show()\n",
    "end_csv = time.time()\n",
    "total_csv = end_csv - start_csv\n",
    "print(f\"Execution Time (CSV): {total_csv}\\n\")\n",
    "\n",
    "# Parquet Performance\n",
    "start_parquet = time.time()\n",
    "df_parquet.select(F.mean(\"Trip Total\"), F.mean(\"Trip Seconds\")).show()\n",
    "end_parquet = time.time()\n",
    "total_parquet = end_parquet - start_parquet\n",
    "print(f\"Execution Time (CSV): {total_parquet}\")"
   ]
  },
  {
   "cell_type": "markdown",
   "id": "3ec044ad-16e3-4a0b-92c5-2502aaa473bb",
   "metadata": {},
   "source": [
    "## Fine Tuning and Improving Performance"
   ]
  },
  {
   "cell_type": "markdown",
   "id": "34f3fbda-da46-4b6f-b12e-e949c2b50dbc",
   "metadata": {},
   "source": [
    "To take the most advantage of Spark, it is important to understand and determine the right parameter configuration in our environment, so we can improve our performance. \n",
    "\n",
    "The following are a series of features and techniques that can enhance Spark's overall performance.\n",
    "\n",
    "**Right number of partitions**\n",
    "\n",
    "Identifying the right number of partitions is key to achieve a solid performance of our computational tasks. A partition refers to a portion of the data distributed among the cores. \n",
    "\n",
    "To change the number of partitions in our RDD, Spark possesses [two different functions](https://sparkbyexamples.com/spark/spark-repartition-vs-coalesce/):\n",
    "\n",
    "- [*.repartition()*](https://spark.apache.org/docs/3.1.3/api/python/reference/api/pyspark.sql.DataFrame.repartition.html): Can be used to either increase or decrease the number of partitions by shuffling the data and redistributing it in n partitions.\n",
    "- [*.coalesce()*](https://spark.apache.org/docs/3.1.1/api/python/reference/api/pyspark.sql.DataFrame.coalesce.html): Can only be used to decrease the number of partitions without shuffling the data. For some contexts, this is a more efficient way to decrease the number of partions.\n",
    "\n",
    "It is important to take into consideration that partitioning is an expensive task, and therefore, increasing the number of partitions in our data does not necessarily represents an improvement in performance. \n",
    "\n",
    "To start our fine-tuning, let's first the current number of partitions in our *shakespeare* DataFrame:"
   ]
  },
  {
   "cell_type": "code",
   "execution_count": 32,
   "id": "f06061bb-e981-4c94-8c2d-d0925d75daec",
   "metadata": {},
   "outputs": [
    {
     "data": {
      "text/plain": [
       "2"
      ]
     },
     "execution_count": 32,
     "metadata": {},
     "output_type": "execute_result"
    }
   ],
   "source": [
    "shakespeare.rdd.getNumPartitions() "
   ]
  },
  {
   "cell_type": "markdown",
   "id": "81705467-5a21-44c3-93f1-fcb41e1000ad",
   "metadata": {},
   "source": [
    "We can repartition *shakespeare* and see if we achieve a better performance. In the following cell of code, we will iterate over different partition sizes, repeat our counting words task, and identify which size is the optimal given our current infrastructure and the data."
   ]
  },
  {
   "cell_type": "code",
   "execution_count": 33,
   "id": "68aa38fe-511e-4cf3-b855-8bb551198735",
   "metadata": {},
   "outputs": [
    {
     "name": "stdout",
     "output_type": "stream",
     "text": [
      "The optimal number of partitions is 10 with a time of 1.7056100368499756 seconds\n",
      "\n"
     ]
    },
    {
     "data": {
      "image/png": "[encoded data removed]",
      "text/plain": [
       "<Figure size 640x480 with 1 Axes>"
      ]
     },
     "metadata": {},
     "output_type": "display_data"
    }
   ],
   "source": [
    "def task_time(shakespeare, partitions):\n",
    "    shakespeare = shakespeare.repartition(partitions) # Repartition the RDD\n",
    "    start_time = time.time()\n",
    "    shakespeare.rdd \\\n",
    "    .flatMap(lambda line: line[0].split(\" \")) \\\n",
    "    .filter(lambda word: word.lower() not in stop_words and word != \"\")  \\\n",
    "    .map(lambda word: (word, 1)) \\\n",
    "    .reduceByKey(lambda x, y: x + y) \\\n",
    "    .sortBy(lambda x: x[1], ascending=False) \\\n",
    "    .collect()\n",
    "    end_time = time.time()\n",
    "    return end_time - start_time\n",
    "\n",
    "partitions = [5, 10, 15, 20, 30, 50]\n",
    "\n",
    "times = [task_time(shakespeare, p) for p in partitions]\n",
    "\n",
    "optimal_partitions = partitions[times.index(min(times))] # We identify the partition size with the lowest time\n",
    "\n",
    "print(f\"The optimal number of partitions is {optimal_partitions} with a time of {min(times)} seconds\\n\")\n",
    "\n",
    "# Plotting\n",
    "plt.plot(partitions, times)\n",
    "plt.xlabel('Number of Partitions')\n",
    "plt.ylabel('Time taken (seconds)')\n",
    "plt.title('Effect of Partitioning on Performance')\n",
    "plt.show()"
   ]
  },
  {
   "cell_type": "markdown",
   "id": "b14c5fea-bcdb-4b7a-bf39-3c640ae4bef5",
   "metadata": {},
   "source": [
    "As we can observe in the graph, an initial increasing in the number of partitions improves the computation time. However, as the number of partitions increases, the repartitioning does not offer an improval in performance.\n",
    "\n",
    "**Data Persistence**\n",
    "\n",
    "Another way to improve our performance is by persisting our recurrently used RDD's of Dataframes. By persisting our data, we avoid the task of recomputing the data from the source everytime an action is called. There are different [persistence levels](https://spark.apache.org/docs/latest/rdd-programming-guide.html#rdd-persistence) available for set-up and the choice mostly depends on the size and type of data we are working with. To persist our data, we have two different methods:\n",
    "\n",
    "-[*.persist()*](https://spark.apache.org/docs/latest/api/python/reference/pyspark.pandas/api/pyspark.pandas.DataFrame.spark.persist.html): With this method, the user defines the storage level to persist the data.\n",
    "\n",
    "-[*cache()*](https://spark.apache.org/docs/latest/api/python/reference/pyspark.sql/api/pyspark.sql.DataFrame.cache.html): With this method, data is cached with the default level *MEMORY_AND_DISK*.\n",
    "\n",
    "Let's make a comparison of the performance of a query in our parquet DataFrame before and after caching."
   ]
  },
  {
   "cell_type": "code",
   "execution_count": 34,
   "id": "827bf73a-4969-4daf-b6e3-1af07dc60468",
   "metadata": {},
   "outputs": [
    {
     "name": "stdout",
     "output_type": "stream",
     "text": [
      "+---------------------+------------------+\n",
      "|Pickup Community Area|    AVG Trip Total|\n",
      "+---------------------+------------------+\n",
      "|                  1.0|14.904347051776078|\n",
      "|                  2.0|14.709523427124203|\n",
      "|                  3.0|13.594861907566404|\n",
      "|                  4.0|13.487912290478853|\n",
      "|                  5.0|13.498661423394244|\n",
      "|                  6.0|13.551174231054809|\n",
      "|                  7.0|13.730048243649643|\n",
      "|                  8.0|12.739438021830141|\n",
      "|                  9.0|19.907711711711713|\n",
      "|                 10.0|19.228908232118755|\n",
      "|                 11.0| 15.68249312216521|\n",
      "|                 12.0|20.352792553191488|\n",
      "|                 13.0|14.851200775475576|\n",
      "|                 14.0|15.245882238505937|\n",
      "|                 15.0|14.950861089792784|\n",
      "|                 16.0|14.187686900245485|\n",
      "|                 17.0| 19.16936414176512|\n",
      "|                 18.0| 19.99314049586777|\n",
      "|                 19.0| 16.65431488275642|\n",
      "|                 20.0| 18.53338563956253|\n",
      "+---------------------+------------------+\n",
      "only showing top 20 rows\n",
      "\n",
      "Is the dataframe cached: False\n",
      "Execution Time (Pre-cached): 0.36528754234313965\n",
      "\n"
     ]
    }
   ],
   "source": [
    "# Pre-caching\n",
    "start_pre = time.time()\n",
    "df_parquet.groupBy(\"Pickup Community Area\") \\\n",
    "    .agg(F.avg(\"Trip Total\") \\\n",
    "    .alias(\"AVG Trip Total\")) \\\n",
    "    .na.drop(subset=[\"Pickup Community Area\"])\\\n",
    "    .orderBy(F.col('Pickup Community Area')).show()\n",
    "end_pre = time.time()\n",
    "total_pre = end_pre - start_pre\n",
    "print(f\"Is the dataframe cached: {df_parquet.is_cached}\")\n",
    "print(f\"Execution Time (Pre-cached): {total_pre}\\n\")"
   ]
  },
  {
   "cell_type": "code",
   "execution_count": 35,
   "id": "b0dc522c-00c0-4269-b8e3-4d09e954a043",
   "metadata": {},
   "outputs": [
    {
     "data": {
      "text/plain": [
       "[Row(Trip ID='16c7456d99031528c238bd02f40df5ab9bdf9778', Taxi ID='88d3be8c1334607f62a8c058f680dd7fbb57826ec7408dfee0f2f25c0a0347e0afd633ec23fb657e7e97935e79974e13266f19b4a169a55190ad47fa299d2ddc', Trip Start Timestamp='01/01/2020 12:00:00 AM', Trip End Timestamp='01/01/2020 12:00:00 AM', Trip Seconds=60.0, Trip Miles=0.0, Pickup Census Tract=None, Dropoff Census Tract=None, Pickup Community Area=None, Dropoff Community Area=None, Fare=3.25, Tips=0.02, Tolls=0.0, Extras=9.0, Trip Total=12.27, Payment Type='Credit Card', Company='Top Cab Affiliation', Pickup Centroid Latitude=None, Pickup Centroid Longitude=None, Pickup Centroid Location=None, Dropoff Centroid Latitude=None, Dropoff Centroid Longitude=None, Dropoff Centroid  Location=None)]"
      ]
     },
     "execution_count": 35,
     "metadata": {},
     "output_type": "execute_result"
    }
   ],
   "source": [
    "df_parquet.cache()\n",
    "df_parquet.take(1) #We need to perform a first action to actually cache the data."
   ]
  },
  {
   "cell_type": "code",
   "execution_count": 36,
   "id": "24e18188-1550-4648-a20d-fb3cf1d5b3d4",
   "metadata": {},
   "outputs": [
    {
     "name": "stdout",
     "output_type": "stream",
     "text": [
      "+---------------------+------------------+\n",
      "|Pickup Community Area|    AVG Trip Total|\n",
      "+---------------------+------------------+\n",
      "|                  1.0|14.904347051776078|\n",
      "|                  2.0|14.709523427124203|\n",
      "|                  3.0|13.594861907566404|\n",
      "|                  4.0|13.487912290478853|\n",
      "|                  5.0|13.498661423394244|\n",
      "|                  6.0|13.551174231054809|\n",
      "|                  7.0|13.730048243649643|\n",
      "|                  8.0|12.739438021830141|\n",
      "|                  9.0|19.907711711711713|\n",
      "|                 10.0|19.228908232118755|\n",
      "|                 11.0| 15.68249312216521|\n",
      "|                 12.0|20.352792553191488|\n",
      "|                 13.0|14.851200775475576|\n",
      "|                 14.0|15.245882238505937|\n",
      "|                 15.0|14.950861089792784|\n",
      "|                 16.0|14.187686900245485|\n",
      "|                 17.0| 19.16936414176512|\n",
      "|                 18.0| 19.99314049586777|\n",
      "|                 19.0| 16.65431488275642|\n",
      "|                 20.0| 18.53338563956253|\n",
      "+---------------------+------------------+\n",
      "only showing top 20 rows\n",
      "\n",
      "Is the dataframe cached: True\n",
      "Execution Time (Pre-cached): 0.6088638305664062\n",
      "\n"
     ]
    }
   ],
   "source": [
    "# Cached\n",
    "start_post = time.time()\n",
    "df_parquet.groupBy(\"Pickup Community Area\") \\\n",
    "    .agg(F.avg(\"Trip Total\") \\\n",
    "    .alias(\"AVG Trip Total\")) \\\n",
    "    .na.drop(subset=[\"Pickup Community Area\"])\\\n",
    "    .orderBy(F.col('Pickup Community Area')).show()\n",
    "end_post = time.time()\n",
    "total_post = end_post - start_post\n",
    "print(f\"Is the dataframe cached: {df_parquet.is_cached}\")\n",
    "print(f\"Execution Time (Pre-cached): {total_post}\\n\")"
   ]
  },
  {
   "cell_type": "code",
   "execution_count": 37,
   "id": "2b5ef426-2bb8-4495-ade4-504ac9356ca9",
   "metadata": {},
   "outputs": [
    {
     "data": {
      "text/plain": [
       "DataFrame[Trip ID: string, Taxi ID: string, Trip Start Timestamp: string, Trip End Timestamp: string, Trip Seconds: double, Trip Miles: double, Pickup Census Tract: double, Dropoff Census Tract: double, Pickup Community Area: double, Dropoff Community Area: double, Fare: double, Tips: double, Tolls: double, Extras: double, Trip Total: double, Payment Type: string, Company: string, Pickup Centroid Latitude: double, Pickup Centroid Longitude: double, Pickup Centroid Location: string, Dropoff Centroid Latitude: double, Dropoff Centroid Longitude: double, Dropoff Centroid  Location: string]"
      ]
     },
     "execution_count": 37,
     "metadata": {},
     "output_type": "execute_result"
    }
   ],
   "source": [
    "# Unpersisting our data\n",
    "df_parquet.unpersist()"
   ]
  },
  {
   "cell_type": "markdown",
   "id": "3ba5cd36-7cff-42c6-9a6d-cbf5f5e2dd56",
   "metadata": {},
   "source": [
    "**Bucketing**\n",
    "\n",
    "[Splitting the data into *buckets*](https://medium.com/@diehardankush/what-all-about-bucketing-and-partitioning-in-spark-bc669441db63) is another way to partition our data. In this approach, instead of partitioning the data into an n number of partitions, *buckets* can be created by partitioning the data by an specific column or set of columns. This technique is parlicularly useful when we constantly perform aggregated operations or joins. Let's take a look at an example."
   ]
  },
  {
   "cell_type": "code",
   "execution_count": 38,
   "id": "8c81fedf-78d4-4481-b41c-4f0efde07a17",
   "metadata": {},
   "outputs": [
    {
     "name": "stdout",
     "output_type": "stream",
     "text": [
      "+---------------------+--------------+------------------+\n",
      "|Pickup Community Area|count(Trip ID)|         avg(Fare)|\n",
      "+---------------------+--------------+------------------+\n",
      "|                  8.0|        963497|11.024886884027584|\n",
      "|                 67.0|          5135|20.092132424537485|\n",
      "|                 70.0|          3915| 22.66979565772669|\n",
      "|                 69.0|         11130|  20.2773144654088|\n",
      "|                  7.0|         78148|12.324253631070444|\n",
      "|                 49.0|          9193|22.288598781549172|\n",
      "|                 29.0|          5653| 19.80427636234961|\n",
      "|                 75.0|          4230|23.573432624113472|\n",
      "|                 64.0|           859|24.881722933643772|\n",
      "|                 47.0|          1386| 23.95945887445887|\n",
      "|                 42.0|         12084| 18.97675604104601|\n",
      "|                 44.0|         13120| 20.43498399390244|\n",
      "|                 NULL|        278916| 19.77506484798286|\n",
      "|                 35.0|         24648| 15.68696964778445|\n",
      "|                 62.0|           952|24.572741596638654|\n",
      "|                 18.0|           968|19.707964876033056|\n",
      "|                  1.0|         30897|14.115204157627172|\n",
      "|                 39.0|         15238|17.982006825042657|\n",
      "|                 37.0|          4126|20.459789142026175|\n",
      "|                 34.0|          6416| 20.15941543257989|\n",
      "+---------------------+--------------+------------------+\n",
      "only showing top 20 rows\n",
      "\n",
      "Time: 0.8432576656341553 seconds\n"
     ]
    }
   ],
   "source": [
    "# Non-bucketed querying\n",
    "start = time.time()\n",
    "df_parquet.groupBy(\"Pickup Community Area\").agg({\"Trip ID\": \"count\", \"Fare\": \"avg\"}).show()\n",
    "end = time.time()\n",
    "print(f\"Time: {end-start} seconds\")"
   ]
  },
  {
   "cell_type": "code",
   "execution_count": 39,
   "id": "6657a06f-b00f-4c55-885e-75094fab58c0",
   "metadata": {},
   "outputs": [
    {
     "name": "stdout",
     "output_type": "stream",
     "text": [
      "+---------------------+--------------+------------------+\n",
      "|Pickup Community Area|count(Trip ID)|         avg(Fare)|\n",
      "+---------------------+--------------+------------------+\n",
      "|                 13.0|          8258|13.400220525869374|\n",
      "|                 16.0|         26888|12.473036524585284|\n",
      "|                 20.0|          2103|17.641583452211126|\n",
      "|                 36.0|          7463|17.187135200321585|\n",
      "|                 63.0|          1333|21.467599399849963|\n",
      "|                 11.0|         13450|14.330103353409175|\n",
      "|                 23.0|          6323|18.278257156413094|\n",
      "|                 28.0|        422639|11.606287576904856|\n",
      "|                 44.0|         13120| 20.43498399390244|\n",
      "|                 48.0|          4795|20.324401335002083|\n",
      "|                 68.0|          7109|20.732124366910522|\n",
      "|                  4.0|         23330|12.656057787113644|\n",
      "|                 12.0|          3760|19.468385638297875|\n",
      "|                 NULL|        278916|19.775064847982197|\n",
      "|                 22.0|         20040|13.932479664653924|\n",
      "|                 35.0|         24648| 15.68696964778445|\n",
      "|                 58.0|          1885|20.293549071618035|\n",
      "|                 62.0|           952|24.572741596638654|\n",
      "|                 71.0|          9892|21.256456605300414|\n",
      "|                 77.0|         56067|13.136743903961756|\n",
      "+---------------------+--------------+------------------+\n",
      "only showing top 20 rows\n",
      "\n",
      "Time: 1.481947660446167 seconds\n"
     ]
    }
   ],
   "source": [
    "df_parquet.write.bucketBy(10, \"Pickup Community Area\").sortBy(\"Pickup Community Area\").saveAsTable(\"bucket_taxi\")\n",
    "bucketed_df = spark.table(\"bucket_taxi\")\n",
    "\n",
    "# Bucketed querying\n",
    "start = time.time()\n",
    "bucketed_df.groupBy(\"Pickup Community Area\").agg({\"Trip ID\": \"count\", \"Fare\": \"avg\"}).show()\n",
    "end = time.time()\n",
    "print(f\"Time: {end-start} seconds\")"
   ]
  },
  {
   "cell_type": "markdown",
   "id": "41bb9b90-75f8-4d24-8c1a-7469889ff522",
   "metadata": {},
   "source": [
    "As we stated at the beginning, finding the proper configuration tuning is a task that highly depends on the type of data you're working with, as well as your available resources. \n",
    "\n",
    "In this courselet we have explored some mostly to illustrate their implementation, although some of them might not have led to an actual improvement in the performance of our cluster. You're invitated to learn more about fine tuning by reading at the relevant documentation."
   ]
  }
 ],
 "metadata": {
  "kernelspec": {
   "display_name": "Python 3 (ipykernel)",
   "language": "python",
   "name": "python3"
  },
  "language_info": {
   "codemirror_mode": {
    "name": "ipython",
    "version": 3
   },
   "file_extension": ".py",
   "mimetype": "text/x-python",
   "name": "python",
   "nbconvert_exporter": "python",
   "pygments_lexer": "ipython3",
   "version": "3.11.6"
  }
 },
 "nbformat": 4,
 "nbformat_minor": 5
}
