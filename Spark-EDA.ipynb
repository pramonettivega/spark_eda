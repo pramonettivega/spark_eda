{
 "cells": [
  {
   "cell_type": "markdown",
   "id": "fd1d52d9-d836-4699-b174-2f50f8f481b9",
   "metadata": {},
   "source": [
    "# Spark - Exploratory Data Analysis\n",
    "\n",
    "In this courselet, we will explore the use of Spark as a Data Science tool when working with Big Data. By the end of this courselet, you would be able to:\n",
    "\n",
    "- Perform a descriptive analysis\n",
    "- Compare the performance of Spark under different data formats (csv vs. parquet)\n",
    "- Identify the advantages of using Spark in a cluster, by setting up dirrent working instances.\n",
    "\n",
    "## What is Spark?\n",
    "\n",
    "[Apache Spark](https://spark.apache.org/) is an open-source engine used for the processing and analysis of large-scale data. Today, Spark is one of the most popular frameworks for the developement of data engineering, data science and machine learning tasks.\n",
    "\n",
    "## Advantages of Spark\n",
    "\n",
    "- Multi-language: It can be implemented through multiple-languages (Python, R, Java, Scala), making it flexible for diverse users\n",
    "- Speed: Spark leverages on RAM to perform it's computational tasks, which translates into faster data processing\n",
    "- Parallelism and fault tolerance: Spark is designed to be used in the context of a multi-node cluster. Therefore, its design aims for a parallel data processing across nodes, as well as fault tolerance in the case that one of the nodes presents a failure.\n",
    "- Wide community of users: Given it's popularity, there is a huge open-source community which allows Spark to be constantly developed and improved\n",
    "\n",
    "## Disadvantages of Spark\n",
    "\n",
    "- Hardware consumption: The use of RAM to optimize speed also transalates into a higher memory consumption.\n",
    "- Manual fine-tuning and optimization: To optimize the overall performance of Spark, the user must [tune the settings](https://www.databricks.com/glossary/spark-tuning) of the cluster in terms of hardware. This process is not straightforward\n",
    "- Unneficient management of small files: For cases of small files, you might want to choose Pandas instead of Spark\n",
    "\n",
    "## Importing libraries and starting our Spark session.\n",
    "\n",
    "To start working, we are first going to import our main library and start our spark session."
   ]
  },
  {
   "cell_type": "code",
   "execution_count": 1,
   "id": "b968789c-82a1-4388-a223-f272fdd686be",
   "metadata": {},
   "outputs": [],
   "source": [
    "import pyspark\n",
    "\n",
    "# Starting a Spark session\n",
    "from pyspark.sql import SparkSession\n",
    "spark = SparkSession.builder.appName(\"EDA\").getOrCreate()\n",
    "\n",
    "# Creating the Spark Context\n",
    "sc = spark.sparkContext"
   ]
  },
  {
   "cell_type": "markdown",
   "id": "3c950710-0837-4333-a2ce-26b2efb9b537",
   "metadata": {},
   "source": [
    "## RDD\n",
    "\n",
    "The [Resilient Distributed Dataset (RDD)](https://spark.apache.org/docs/latest/rdd-programming-guide.html) is the main data structure in Spark. It consist of a collection of object distributed across the nodes of the cluster. This allows for the processes to be parallelized across the nodes, an to guarantee fault tolerance. RDD's posses two fundamental types of operations: **transformations**,  which are operations that convert RDD's into new RDD's, and **actions**, which return non-RDD values/objects.\n",
    "\n",
    "Let's now work with an example RDD."
   ]
  },
  {
   "cell_type": "code",
   "execution_count": 2,
   "id": "0982051a-5fc4-4585-b1b3-91284c2e35c1",
   "metadata": {},
   "outputs": [
    {
     "data": {
      "text/plain": [
       "ParallelCollectionRDD[0] at readRDDFromFile at PythonRDD.scala:289"
      ]
     },
     "execution_count": 2,
     "metadata": {},
     "output_type": "execute_result"
    }
   ],
   "source": [
    "# We start by creating a list of values\n",
    "lst = [i for i in range(15)]\n",
    "# Executing the function \"parallelize\", converts our list into an RDD\n",
    "rdd = sc.parallelize(lst)\n",
    "rdd "
   ]
  },
  {
   "cell_type": "code",
   "execution_count": 3,
   "id": "dc2ac0a8-9b88-4e51-820e-ebb2f6690198",
   "metadata": {},
   "outputs": [
    {
     "data": {
      "text/plain": [
       "[0, 1, 4, 9, 16, 25, 36, 49, 64, 81, 100, 121, 144, 169, 196]"
      ]
     },
     "execution_count": 3,
     "metadata": {},
     "output_type": "execute_result"
    }
   ],
   "source": [
    "# Performing a transformation. \n",
    "squared_rdd = rdd.map(lambda x: x**2) # Transforming our RDD into a new one with the same values squared\n",
    "squared_rdd = squared_rdd.collect() # Collecting our RDD into a list again\n",
    "squared_rdd # Now we have a list of squared values"
   ]
  },
  {
   "cell_type": "code",
   "execution_count": 4,
   "id": "3c721b3b-b3f1-4bb6-be60-c670573c3868",
   "metadata": {},
   "outputs": [
    {
     "data": {
      "text/plain": [
       "8"
      ]
     },
     "execution_count": 4,
     "metadata": {},
     "output_type": "execute_result"
    }
   ],
   "source": [
    "filtered_rdd = rdd.filter(lambda x: x % 2 == 0) # Filtering our RDD into a new one with even numbers\n",
    "filtered_rdd.count() # Returning the count of even numbers"
   ]
  },
  {
   "cell_type": "code",
   "execution_count": 5,
   "id": "28d3b368-5b79-4b73-8e8b-212342c1fbad",
   "metadata": {},
   "outputs": [
    {
     "name": "stdout",
     "output_type": "stream",
     "text": [
      "{'though', 'put', 'might', 'must', 'done', 'hundred', 'under', 'amount', 'than', 'the', 'yet', 'bottom', 'something', 'into', 'top', \"'s\", \"'ve\", 'hereupon', 'from', 'three', 'twenty', 'two', 'much', 'name', 'can', 'elsewhere', 'everywhere', 'part', 'now', 'is', 'be', 'nothing', 'third', 'hence', 'what', 'unless', 'some', 'him', 'take', 'yours', 'been', 'a', 'except', 'besides', 'over', 'with', 'off', 'say', 'mine', 'seeming', 'whole', 'they', 'anything', 'by', 'everyone', 'thus', 'and', 'up', 'within', 'thru', 'towards', 'serious', 'n’t', 'since', 'become', 'too', 'any', 'here', 'them', 'fifteen', 'call', 'am', 'sometimes', 'either', 'formerly', 'which', 'whom', 'out', 'did', 'fifty', 'their', 'nine', 'ever', 'alone', 'seemed', 'although', 'was', 'back', '’ll', 'due', 'further', 'made', 'front', 'hereafter', '’d', 'would', 'often', 'this', 'such', '’re', 'therein', 'why', 'across', 'most', 'get', 'could', 're', 'whatever', 'mostly', 'against', 'have', 'for', 'his', 'whither', 'somehow', 'few', 'empty', 'who', 'meanwhile', 'down', 'perhaps', 'does', 'your', 'around', 'still', 'thence', 'someone', 'forty', 'our', 'beyond', 'behind', 'had', 'eight', 'side', 'more', 'five', 'those', 'at', 'themselves', 'through', 'even', 'all', 'one', 'me', 'there', 'thereafter', '’s', 'first', 'thereby', 'himself', 'throughout', 'go', 'becomes', 'thereupon', '’ve', 'sometime', '‘re', 'anywhere', 'always', \"n't\", 'will', 'another', 'also', 'before', 'these', 'not', 'well', 'enough', 'along', 'already', 'because', 'i', 'during', 'wherever', 'may', 'anyone', 'full', 'she', 'as', 'but', 'other', 'whose', 'whenever', 'beside', 'move', 'nor', 'whereafter', 'being', 'do', 'then', 'her', 'only', 'between', 'no', 'to', 'neither', 'less', 'hereby', 'regarding', 'became', 'among', 'has', 'of', 'becoming', 'every', 'were', 'next', 'without', 'really', 'so', 'ten', 'least', 'when', 'myself', 'nobody', 'several', 'yourselves', 'please', \"'d\", 'after', 'same', \"'re\", 'cannot', 'anyhow', 'otherwise', 'wherein', 'make', 'once', '‘ll', 'per', 'latterly', 'where', 'quite', 'us', 'rather', 'ca', 'onto', 'everything', 'whereupon', 'ours', 'or', 'that', 'how', 'four', 'below', 'however', 'herein', '‘s', 'afterwards', 'if', 'again', 'others', 'together', 'moreover', 'nowhere', 'hers', 'none', 'doing', 'noone', 'whereas', 'he', 'somewhere', 'show', 'you', 'each', 'while', 'yourself', 'eleven', 'many', 'we', 'whether', 'nevertheless', '‘m', 'give', 'it', 'beforehand', 'itself', 'twelve', 'very', 'above', 'else', 'seem', 'former', 'herself', 'both', 'via', 'whoever', 'therefore', 'last', 'namely', 'on', '‘ve', 'latter', 'an', 'upon', 'about', 'until', 'seems', 'used', 'own', 'keep', 'anyway', 'n‘t', 'indeed', '‘d', 'its', 'my', 'six', 'whence', 'never', 'ourselves', 'whereby', \"'m\", 'almost', 'toward', 'see', 'should', 'are', 'various', '’m', 'using', 'sixty', \"'ll\", 'in', 'just', 'amongst'}\n"
     ]
    }
   ],
   "source": [
    "import spacy\n",
    "en = spacy.load(\"en_core_web_lg\")\n",
    "stopwords = en.Defaults.stop_words\n",
    "print(stopwords)"
   ]
  },
  {
   "cell_type": "code",
   "execution_count": 6,
   "id": "2beac4a3-5df9-40d3-8410-b9ef12ef71d5",
   "metadata": {},
   "outputs": [
    {
     "data": {
      "text/plain": [
       "[('thou', 4247),\n",
       " ('thy', 3630),\n",
       " ('shall', 3016),\n",
       " ('good', 2046),\n",
       " ('Enter', 1926),\n",
       " ('thee', 1780),\n",
       " (\"I'll\", 1737),\n",
       " ('hath', 1614),\n",
       " ('like', 1453),\n",
       " ('you,', 1428)]"
      ]
     },
     "execution_count": 6,
     "metadata": {},
     "output_type": "execute_result"
    }
   ],
   "source": [
    "shakespeare = spark.read.text(\"data/shakespeare.txt\")\n",
    "top_words = (\n",
    "    shakespeare\n",
    "    .rdd.flatMap(lambda line: line[0].split(\" \"))\n",
    "    .filter(lambda word: word.lower() not in stopwords and word != \"\")\n",
    "    .map(lambda word: (word, 1))\n",
    "    .reduceByKey(lambda x, y: x + y)\n",
    "    .sortBy(lambda x: x[1], ascending=False)\n",
    "    .take(10)\n",
    ")\n",
    "\n",
    "top_words"
   ]
  },
  {
   "cell_type": "markdown",
   "id": "f02fcc11-3a0f-4533-8b01-74880fb6848d",
   "metadata": {},
   "source": [
    "## Dataframes\n",
    "\n",
    "For this courselet, we are exploring the taxi trips reported to the City of Chicago in 2020. This data is publicly available through the [Chicago Data Portal](https://data.cityofchicago.org/en/Transportation/Taxi-Trips-2020/r2u4-wwk3/about_data). \n",
    "\n",
    "We will proceed to load our data."
   ]
  },
  {
   "cell_type": "code",
   "execution_count": 7,
   "id": "59370e32-2159-40db-aa4e-1ec93b84e3a1",
   "metadata": {},
   "outputs": [],
   "source": [
    "df = spark.read.csv(\"data/chicago-taxi-2020.csv\",header=True, inferSchema=True)"
   ]
  },
  {
   "cell_type": "markdown",
   "id": "c4801a22-cbcf-42de-a78d-3bb97ce4e473",
   "metadata": {},
   "source": [
    "As the our first actions, we can print the Schema of the data, and count the number of rows."
   ]
  },
  {
   "cell_type": "code",
   "execution_count": 8,
   "id": "c5fe3471-4116-4b16-9c5e-715b4a49ca29",
   "metadata": {},
   "outputs": [
    {
     "name": "stdout",
     "output_type": "stream",
     "text": [
      "root\n",
      " |-- Trip ID: string (nullable = true)\n",
      " |-- Taxi ID: string (nullable = true)\n",
      " |-- Trip Start Timestamp: string (nullable = true)\n",
      " |-- Trip End Timestamp: string (nullable = true)\n",
      " |-- Trip Seconds: integer (nullable = true)\n",
      " |-- Trip Miles: double (nullable = true)\n",
      " |-- Pickup Census Tract: long (nullable = true)\n",
      " |-- Dropoff Census Tract: long (nullable = true)\n",
      " |-- Pickup Community Area: integer (nullable = true)\n",
      " |-- Dropoff Community Area: integer (nullable = true)\n",
      " |-- Fare: double (nullable = true)\n",
      " |-- Tips: double (nullable = true)\n",
      " |-- Tolls: double (nullable = true)\n",
      " |-- Extras: double (nullable = true)\n",
      " |-- Trip Total: double (nullable = true)\n",
      " |-- Payment Type: string (nullable = true)\n",
      " |-- Company: string (nullable = true)\n",
      " |-- Pickup Centroid Latitude: double (nullable = true)\n",
      " |-- Pickup Centroid Longitude: double (nullable = true)\n",
      " |-- Pickup Centroid Location: string (nullable = true)\n",
      " |-- Dropoff Centroid Latitude: double (nullable = true)\n",
      " |-- Dropoff Centroid Longitude: double (nullable = true)\n",
      " |-- Dropoff Centroid  Location: string (nullable = true)\n",
      "\n"
     ]
    }
   ],
   "source": [
    "df.printSchema()"
   ]
  },
  {
   "cell_type": "code",
   "execution_count": 9,
   "id": "6f5f1714-17e2-4f1c-82cc-7850a00cae04",
   "metadata": {},
   "outputs": [
    {
     "data": {
      "text/plain": [
       "3889032"
      ]
     },
     "execution_count": 9,
     "metadata": {},
     "output_type": "execute_result"
    }
   ],
   "source": [
    "df.count()"
   ]
  },
  {
   "cell_type": "code",
   "execution_count": 10,
   "id": "2404dccd-2e9f-4251-a7be-eac409016957",
   "metadata": {},
   "outputs": [
    {
     "name": "stdout",
     "output_type": "stream",
     "text": [
      "+--------------------+----------+\n",
      "|             Trip ID|Trip Total|\n",
      "+--------------------+----------+\n",
      "|16c7456d99031528c...|     12.27|\n",
      "|472eef1d5c7a5e5ee...|      13.0|\n",
      "|031a4d882fb3315a4...|      14.8|\n",
      "|3c416c246829dfb3f...|      9.75|\n",
      "|3c0a22971ae070ce3...|      6.75|\n",
      "|451beabd5dd8ffc54...|     12.25|\n",
      "|60da9b02b3297dc58...|      21.6|\n",
      "|64bd098989d7ad38a...|      12.0|\n",
      "|8e2fa4ad2d00c7372...|     25.25|\n",
      "|9323dfcf3aa6b0e8c...|      7.75|\n",
      "+--------------------+----------+\n",
      "only showing top 10 rows\n",
      "\n"
     ]
    }
   ],
   "source": [
    "df[['Trip ID', 'Trip Total']].show(10)"
   ]
  },
  {
   "cell_type": "markdown",
   "id": "d3c83cf6-8a34-49e5-b5d8-9c06fe1b79f4",
   "metadata": {},
   "source": [
    "# Descriptive Statistics\n",
    "\n",
    "To support our operations, we are going to use the collections of functions provided by pyspark.sql. You can consult the full list in the [source documentation.](https://spark.apache.org/docs/latest/api/python/reference/pyspark.sql/api/pyspark.sql.functions.max.html)"
   ]
  },
  {
   "cell_type": "code",
   "execution_count": 11,
   "id": "2c63ade3-208e-4d09-8248-11ab0035e557",
   "metadata": {},
   "outputs": [],
   "source": [
    "import pyspark.sql.functions as F"
   ]
  },
  {
   "cell_type": "code",
   "execution_count": 12,
   "id": "45e1b324-6d46-4e82-a6ac-54fdc2d0d579",
   "metadata": {},
   "outputs": [
    {
     "data": {
      "text/plain": [
       "DataFrame[avg(Trip Total): double]"
      ]
     },
     "execution_count": 12,
     "metadata": {},
     "output_type": "execute_result"
    }
   ],
   "source": [
    "# Mean of a column\n",
    "df.select(F.mean(\"Trip Total\"))"
   ]
  },
  {
   "cell_type": "markdown",
   "id": "5d7fa356-08d8-4f0a-b8d0-74433b8b0afb",
   "metadata": {},
   "source": [
    "As you can observe, our previous line of code has not returned the mean yet. Instead, it returned a DataFrame object. We must perform an action to display the mean. The following line of code extends the previous one with the extension of the *show.()* action."
   ]
  },
  {
   "cell_type": "code",
   "execution_count": 13,
   "id": "6f0d835b-6929-427f-8ae8-801357a9382f",
   "metadata": {},
   "outputs": [
    {
     "name": "stdout",
     "output_type": "stream",
     "text": [
      "+-----------------+\n",
      "|  avg(Trip Total)|\n",
      "+-----------------+\n",
      "|18.36848553758293|\n",
      "+-----------------+\n",
      "\n"
     ]
    }
   ],
   "source": [
    "df.select(F.mean(\"Trip Total\")).show()"
   ]
  },
  {
   "cell_type": "code",
   "execution_count": 14,
   "id": "db1d2064-e578-4171-86ae-bfaf52acb595",
   "metadata": {},
   "outputs": [
    {
     "name": "stdout",
     "output_type": "stream",
     "text": [
      "+-----------------+-----------------+\n",
      "|  avg(Trip Total)|avg(Trip Seconds)|\n",
      "+-----------------+-----------------+\n",
      "|18.36848553758293|874.7527292080763|\n",
      "+-----------------+-----------------+\n",
      "\n"
     ]
    }
   ],
   "source": [
    "# Mean of multiple columns\n",
    "df.select(F.mean(\"Trip Total\"), F.mean(\"Trip Seconds\")).show()"
   ]
  },
  {
   "cell_type": "code",
   "execution_count": 15,
   "id": "b2dc5745-4f87-4f84-b6f8-bfcee9abe39c",
   "metadata": {},
   "outputs": [
    {
     "name": "stdout",
     "output_type": "stream",
     "text": [
      "+---------------+\n",
      "|max(Trip Total)|\n",
      "+---------------+\n",
      "|        9955.55|\n",
      "+---------------+\n",
      "\n"
     ]
    }
   ],
   "source": [
    "# Max value of a column\n",
    "df.select(F.max(\"Trip Total\")).show()"
   ]
  },
  {
   "cell_type": "code",
   "execution_count": 16,
   "id": "ced2350f-6b33-4416-b94e-3dd0a45bff4a",
   "metadata": {},
   "outputs": [
    {
     "name": "stdout",
     "output_type": "stream",
     "text": [
      "+---------------------+------------------+\n",
      "|Pickup Community Area|    AVG Trip Total|\n",
      "+---------------------+------------------+\n",
      "|                    1|14.904347051776057|\n",
      "|                    2|14.709523427124191|\n",
      "|                    3|13.594861907566413|\n",
      "|                    4|13.487912290478846|\n",
      "|                    5| 13.49866142339425|\n",
      "|                    6|13.551174231054807|\n",
      "|                    7|13.730048243649621|\n",
      "|                    8|12.739438021830187|\n",
      "|                    9| 19.90771171171171|\n",
      "|                   10|19.228908232118755|\n",
      "|                   11|15.682493122165218|\n",
      "|                   12|20.352792553191488|\n",
      "|                   13|14.851200775475583|\n",
      "|                   14|15.245882238505931|\n",
      "|                   15|14.950861089792784|\n",
      "|                   16|14.187686900245481|\n",
      "|                   17|19.169364141765115|\n",
      "|                   18| 19.99314049586777|\n",
      "|                   19| 16.65431488275642|\n",
      "|                   20| 18.53338563956253|\n",
      "+---------------------+------------------+\n",
      "only showing top 20 rows\n",
      "\n"
     ]
    }
   ],
   "source": [
    "df.groupBy(\"Pickup Community Area\") \\\n",
    "    .agg(F.avg(\"Trip Total\")\n",
    "    .alias(\"AVG Trip Total\")) \\\n",
    "    .na.drop(subset=[\"Pickup Community Area\"]) \\\n",
    "    .orderBy(F.col(\"Pickup Community Area\")).show()"
   ]
  },
  {
   "cell_type": "markdown",
   "id": "3bf757f2-3664-40af-9edf-904d275ef5e0",
   "metadata": {},
   "source": [
    "## CSV vs Parquet\n",
    "\n",
    "So far, we have returned some simple results using the data in csv format. "
   ]
  },
  {
   "cell_type": "code",
   "execution_count": 17,
   "id": "8b0cc951-8f18-4e3e-9344-9b1c49c49c52",
   "metadata": {},
   "outputs": [
    {
     "name": "stdout",
     "output_type": "stream",
     "text": [
      "root\n",
      " |-- Trip ID: string (nullable = true)\n",
      " |-- Taxi ID: string (nullable = true)\n",
      " |-- Trip Start Timestamp: string (nullable = true)\n",
      " |-- Trip End Timestamp: string (nullable = true)\n",
      " |-- Trip Seconds: double (nullable = true)\n",
      " |-- Trip Miles: double (nullable = true)\n",
      " |-- Pickup Census Tract: double (nullable = true)\n",
      " |-- Dropoff Census Tract: double (nullable = true)\n",
      " |-- Pickup Community Area: double (nullable = true)\n",
      " |-- Dropoff Community Area: double (nullable = true)\n",
      " |-- Fare: double (nullable = true)\n",
      " |-- Tips: double (nullable = true)\n",
      " |-- Tolls: double (nullable = true)\n",
      " |-- Extras: double (nullable = true)\n",
      " |-- Trip Total: double (nullable = true)\n",
      " |-- Payment Type: string (nullable = true)\n",
      " |-- Company: string (nullable = true)\n",
      " |-- Pickup Centroid Latitude: double (nullable = true)\n",
      " |-- Pickup Centroid Longitude: double (nullable = true)\n",
      " |-- Pickup Centroid Location: string (nullable = true)\n",
      " |-- Dropoff Centroid Latitude: double (nullable = true)\n",
      " |-- Dropoff Centroid Longitude: double (nullable = true)\n",
      " |-- Dropoff Centroid  Location: string (nullable = true)\n",
      "\n"
     ]
    }
   ],
   "source": [
    "df_parquet = spark.read.parquet(\"data/chicago-taxi-2020.parquet\",header=True, inferSchema=True)\n",
    "df_parquet.printSchema()"
   ]
  },
  {
   "cell_type": "code",
   "execution_count": 18,
   "id": "ed98d6b9-bed6-4daf-8773-7662b5eae80d",
   "metadata": {},
   "outputs": [
    {
     "name": "stdout",
     "output_type": "stream",
     "text": [
      "+-----------------+-----------------+\n",
      "|  avg(Trip Total)|avg(Trip Seconds)|\n",
      "+-----------------+-----------------+\n",
      "|18.36848553758293|874.7527292080763|\n",
      "+-----------------+-----------------+\n",
      "\n",
      "Execution Time (CSV): 3.0115723609924316\n",
      "+-----------------+-----------------+\n",
      "|  avg(Trip Total)|avg(Trip Seconds)|\n",
      "+-----------------+-----------------+\n",
      "|18.36848553758443|874.7527292080763|\n",
      "+-----------------+-----------------+\n",
      "\n",
      "Execution Time (CSV): 1.0939338207244873\n"
     ]
    }
   ],
   "source": [
    "import time\n",
    "\n",
    "# CSV Performance\n",
    "start_csv = time.time()\n",
    "df.select(F.mean(\"Trip Total\"), F.mean(\"Trip Seconds\")).show()\n",
    "end_csv = time.time()\n",
    "total_csv = end_csv - start_csv\n",
    "print(f\"Execution Time (CSV): {total_csv}\")\n",
    "\n",
    "# Parquet Performance\n",
    "start_parquet = time.time()\n",
    "df_parquet.select(F.mean(\"Trip Total\"), F.mean(\"Trip Seconds\")).show()\n",
    "end_parquet = time.time()\n",
    "total_parquet = end_parquet - start_parquet\n",
    "print(f\"Execution Time (CSV): {total_parquet}\")"
   ]
  },
  {
   "cell_type": "markdown",
   "id": "df2da3be-8cdf-48bf-8314-1ae6b8228fe9",
   "metadata": {},
   "source": [
    "As we see, in this first example, using a parquet format resulted in a faster performance, providing the same results. Let's look at a second example."
   ]
  },
  {
   "cell_type": "code",
   "execution_count": 19,
   "id": "fb32cffd-ff29-4e1f-bfbc-158e1b524390",
   "metadata": {},
   "outputs": [
    {
     "name": "stdout",
     "output_type": "stream",
     "text": [
      "+---------------------+------------------+\n",
      "|Pickup Community Area|    AVG Trip Total|\n",
      "+---------------------+------------------+\n",
      "|                 NULL|23.249158787018228|\n",
      "|                    1|14.904347051776057|\n",
      "|                    2|14.709523427124191|\n",
      "|                    3|13.594861907566413|\n",
      "|                    4|13.487912290478846|\n",
      "|                    5| 13.49866142339425|\n",
      "|                    6|13.551174231054807|\n",
      "|                    7|13.730048243649621|\n",
      "|                    8|12.739438021830187|\n",
      "|                    9| 19.90771171171171|\n",
      "|                   10|19.228908232118755|\n",
      "|                   11|15.682493122165218|\n",
      "|                   12|20.352792553191488|\n",
      "|                   13|14.851200775475583|\n",
      "|                   14|15.245882238505931|\n",
      "|                   15|14.950861089792784|\n",
      "|                   16|14.187686900245481|\n",
      "|                   17|19.169364141765115|\n",
      "|                   18| 19.99314049586777|\n",
      "|                   19| 16.65431488275642|\n",
      "+---------------------+------------------+\n",
      "only showing top 20 rows\n",
      "\n",
      "Execution Time (CSV): 3.5538218021392822\n",
      "+---------------------+------------------+\n",
      "|Pickup Community Area|    AVG Trip Total|\n",
      "+---------------------+------------------+\n",
      "|                 NULL|23.249158787018334|\n",
      "|                  1.0|14.904347051776075|\n",
      "|                  2.0|14.709523427124203|\n",
      "|                  3.0|13.594861907566404|\n",
      "|                  4.0|13.487912290478853|\n",
      "|                  5.0|13.498661423394244|\n",
      "|                  6.0|13.551174231054809|\n",
      "|                  7.0|13.730048243649643|\n",
      "|                  8.0| 12.73943802183014|\n",
      "|                  9.0|19.907711711711713|\n",
      "|                 10.0|19.228908232118755|\n",
      "|                 11.0| 15.68249312216521|\n",
      "|                 12.0| 20.35279255319149|\n",
      "|                 13.0|14.851200775475576|\n",
      "|                 14.0|15.245882238505937|\n",
      "|                 15.0|14.950861089792784|\n",
      "|                 16.0|14.187686900245481|\n",
      "|                 17.0| 19.16936414176512|\n",
      "|                 18.0| 19.99314049586777|\n",
      "|                 19.0| 16.65431488275642|\n",
      "+---------------------+------------------+\n",
      "only showing top 20 rows\n",
      "\n",
      "Execution Time (Parquet): 0.8933601379394531\n"
     ]
    }
   ],
   "source": [
    "# CSV Performance\n",
    "start_csv = time.time()\n",
    "df.groupBy(\"Pickup Community Area\") \\\n",
    "    .agg(F.avg(\"Trip Total\") \\\n",
    "    .alias(\"AVG Trip Total\")) \\\n",
    "    .orderBy(F.col('Pickup Community Area')).show()\n",
    "end_csv = time.time()\n",
    "total_csv = end_csv - start_csv\n",
    "print(f\"Execution Time (CSV): {total_csv}\")\n",
    "\n",
    "# Parquet Performance\n",
    "start_parquet = time.time()\n",
    "df_parquet.groupBy(\"Pickup Community Area\") \\\n",
    "    .agg(F.avg(\"Trip Total\") \\\n",
    "    .alias(\"AVG Trip Total\")) \\\n",
    "    .orderBy(F.col('Pickup Community Area')).show()\n",
    "end_parquet = time.time()\n",
    "total_parquet = end_parquet - start_parquet\n",
    "print(f\"Execution Time (Parquet): {total_parquet}\")"
   ]
  },
  {
   "cell_type": "markdown",
   "id": "83b3e21d-2852-47b1-b00e-737549c9016e",
   "metadata": {},
   "source": [
    "# Spark SQL\n",
    "\n",
    "One of the main features in Spark is the incorporation of an SQL module which allows us to analyze strcutured data through the use of SQL Queries. Let's take a look at some examples."
   ]
  },
  {
   "cell_type": "code",
   "execution_count": 20,
   "id": "cc7bdac0-f75e-4097-856c-432df5e33b9f",
   "metadata": {},
   "outputs": [],
   "source": [
    "df_parquet.createOrReplaceTempView(\"trips\") #We create this temporary view so Spark recognizes our dataframe as a table when writing queries."
   ]
  },
  {
   "cell_type": "code",
   "execution_count": 21,
   "id": "6a0a8190-5aee-43ac-883d-9fe68b4b7d7f",
   "metadata": {},
   "outputs": [
    {
     "name": "stdout",
     "output_type": "stream",
     "text": [
      "+--------------------+\n",
      "|             Taxi ID|\n",
      "+--------------------+\n",
      "|687e3ef9daf087b79...|\n",
      "+--------------------+\n",
      "\n"
     ]
    }
   ],
   "source": [
    "# Select the Taxi ID that charged the most expensive trip\n",
    "spark.sql(\"\"\"\n",
    "    SELECT `Taxi ID`\n",
    "    FROM trips\n",
    "    WHERE `Trip Total` = (SELECT MAX(`Trip Total`) FROM trips)\"\"\").show()"
   ]
  },
  {
   "cell_type": "code",
   "execution_count": 22,
   "id": "c21c531a-b9ee-4e58-8708-82ab5c8cca81",
   "metadata": {},
   "outputs": [
    {
     "name": "stdout",
     "output_type": "stream",
     "text": [
      "+--------------------+------------------+\n",
      "|             company|          avg_fare|\n",
      "+--------------------+------------------+\n",
      "|    Metro Jet Taxi A|294.17248631929584|\n",
      "|     Chicago Taxicab| 59.78360585544377|\n",
      "|Suburban Dispatch...|38.412117919486995|\n",
      "|4053 - 40193 Adwa...| 27.02038626609442|\n",
      "|4623 - 27290 Jay Kim|26.991394148020653|\n",
      "+--------------------+------------------+\n",
      "\n"
     ]
    }
   ],
   "source": [
    "# Select the 5 companies with the highest avg fares\n",
    "spark.sql(\"\"\"\n",
    "    SELECT company, AVG(Fare) as avg_fare\n",
    "    FROM trips\n",
    "    GROUP BY Company\n",
    "    ORDER BY avg_fare DESC\n",
    "    LIMIT 5\n",
    "\"\"\").show()"
   ]
  },
  {
   "cell_type": "markdown",
   "id": "d9f3e4bd-f692-4bc5-9ac3-a62a1b88fedd",
   "metadata": {},
   "source": [
    "## Visualizing Data\n"
   ]
  },
  {
   "cell_type": "code",
   "execution_count": 23,
   "id": "0629f80b-ea1c-4f92-aecd-78b36472a749",
   "metadata": {},
   "outputs": [
    {
     "data": {
      "image/png": "[encoded data removed]",
      "text/plain": [
       "<Figure size 640x480 with 1 Axes>"
      ]
     },
     "metadata": {},
     "output_type": "display_data"
    }
   ],
   "source": [
    "import seaborn as sns\n",
    "import matplotlib.pyplot as plt\n",
    "import pandas as pd\n",
    "\n",
    "trip_seconds = df_parquet.select('Trip Seconds').rdd.flatMap(lambda x: x).collect()\n",
    "trip_total = df_parquet.select('Trip Total').rdd.flatMap(lambda x: x).collect()\n",
    "\n",
    "sns.scatterplot(x=trip_seconds, y=trip_total)\n",
    "plt.title('Scatter Plot of Trip Miles vs Trip Total')\n",
    "plt.xlabel('Trip Seconds')\n",
    "plt.ylabel('Trip Total')\n",
    "plt.show()"
   ]
  },
  {
   "cell_type": "code",
   "execution_count": 24,
   "id": "9b8a36c4-7fda-4bfd-b2e4-79e9979056e6",
   "metadata": {},
   "outputs": [
    {
     "data": {
      "image/png": "[encoded data removed]",
      "text/plain": [
       "<Figure size 640x480 with 1 Axes>"
      ]
     },
     "metadata": {},
     "output_type": "display_data"
    }
   ],
   "source": [
    "pandas_df = spark.sql(\"\"\"\n",
    "    SELECT company, AVG(`Trip Miles`) as avg_trip\n",
    "    FROM trips\n",
    "    GROUP BY Company\n",
    "    ORDER BY avg_trip DESC\n",
    "    LIMIT 5\n",
    "\"\"\").toPandas() \n",
    "\n",
    "sns.barplot(x='company', y='avg_trip', data=pandas_df)\n",
    "plt.title('Top 5 Companies with the longest AVG Trips')\n",
    "plt.xticks(rotation=45)\n",
    "plt.show()"
   ]
  },
  {
   "cell_type": "code",
   "execution_count": null,
   "id": "e0d927ee-23d5-452d-87fc-109862217948",
   "metadata": {},
   "outputs": [],
   "source": []
  },
  {
   "cell_type": "markdown",
   "id": "3ec044ad-16e3-4a0b-92c5-2502aaa473bb",
   "metadata": {},
   "source": [
    "## Fine Tuning"
   ]
  },
  {
   "cell_type": "markdown",
   "id": "34f3fbda-da46-4b6f-b12e-e949c2b50dbc",
   "metadata": {},
   "source": [
    "To take the most advantage of Spark, it is important to understand and determine the right configuration in our cluster, so we can improve our performance. "
   ]
  },
  {
   "cell_type": "code",
   "execution_count": 25,
   "id": "2e2c25d1-6636-444d-8a9e-50f9ef867262",
   "metadata": {},
   "outputs": [
    {
     "ename": "NameError",
     "evalue": "name 'SparkConf' is not defined",
     "output_type": "error",
     "traceback": [
      "\u001b[1;31m---------------------------------------------------------------------------\u001b[0m",
      "\u001b[1;31mNameError\u001b[0m                                 Traceback (most recent call last)",
      "Cell \u001b[1;32mIn[25], line 3\u001b[0m\n\u001b[0;32m      1\u001b[0m num_cores \u001b[38;5;241m=\u001b[39m [\u001b[38;5;241m1\u001b[39m,\u001b[38;5;241m2\u001b[39m,\u001b[38;5;241m4\u001b[39m]\n\u001b[0;32m      2\u001b[0m \u001b[38;5;28;01mfor\u001b[39;00m i \u001b[38;5;129;01min\u001b[39;00m num_cores:\n\u001b[1;32m----> 3\u001b[0m     conf \u001b[38;5;241m=\u001b[39m \u001b[43mSparkConf\u001b[49m()\u001b[38;5;241m.\u001b[39msetAppName(\u001b[38;5;124m\"\u001b[39m\u001b[38;5;124mPerformanceComparison\u001b[39m\u001b[38;5;124m\"\u001b[39m)\u001b[38;5;241m.\u001b[39msetMaster(\u001b[38;5;124m\"\u001b[39m\u001b[38;5;124mlocal[*]\u001b[39m\u001b[38;5;124m\"\u001b[39m)\u001b[38;5;241m.\u001b[39mset(\u001b[38;5;124m\"\u001b[39m\u001b[38;5;124mspark.executor.instances\u001b[39m\u001b[38;5;124m\"\u001b[39m, i) \\\n\u001b[0;32m      4\u001b[0m     \u001b[38;5;241m.\u001b[39mset(\u001b[38;5;124m\"\u001b[39m\u001b[38;5;124mspark.cores.max\u001b[39m\u001b[38;5;124m\"\u001b[39m, \u001b[38;5;28mstr\u001b[39m(i))\n\u001b[0;32m      5\u001b[0m     spark \u001b[38;5;241m=\u001b[39m SparkSession\u001b[38;5;241m.\u001b[39mbuilder\u001b[38;5;241m.\u001b[39mconfig(conf\u001b[38;5;241m=\u001b[39mconf)\u001b[38;5;241m.\u001b[39mgetOrCreate()\n\u001b[0;32m      6\u001b[0m     \u001b[38;5;28mprint\u001b[39m(\u001b[38;5;124mf\u001b[39m\u001b[38;5;124m\"\u001b[39m\u001b[38;5;124mRunning with \u001b[39m\u001b[38;5;132;01m{\u001b[39;00mi\u001b[38;5;132;01m}\u001b[39;00m\u001b[38;5;124m cores\u001b[39m\u001b[38;5;124m\"\u001b[39m)\n",
      "\u001b[1;31mNameError\u001b[0m: name 'SparkConf' is not defined"
     ]
    }
   ],
   "source": [
    "num_cores = [1,2,4]\n",
    "for i in num_cores:\n",
    "    conf = SparkConf().setAppName(\"PerformanceComparison\").setMaster(\"local[*]\").set(\"spark.executor.instances\", i) \\\n",
    "    .set(\"spark.cores.max\", str(i))\n",
    "    spark = SparkSession.builder.config(conf=conf).getOrCreate()\n",
    "    print(f\"Running with {i} cores\")\n",
    "    df = spark.read.csv(\"data/chicago-taxi-2020.csv\",header=True, inferSchema=True)\n",
    "    df = df.repartition(i)\n",
    "    start = time.time()\n",
    "    df.groupBy(\"Pickup Community Area\") \\\n",
    "    .agg(F.avg(\"Trip Total\") \\\n",
    "    .alias(\"AVG Trip Total\")) \\\n",
    "    .orderBy(F.col('Pickup Community Area')).show()\n",
    "    end = time.time()\n",
    "    print(f\"Execution time: {end-start}\\n\")"
   ]
  },
  {
   "cell_type": "code",
   "execution_count": null,
   "id": "f06061bb-e981-4c94-8c2d-d0925d75daec",
   "metadata": {},
   "outputs": [],
   "source": []
  }
 ],
 "metadata": {
  "kernelspec": {
   "display_name": "Python 3 (ipykernel)",
   "language": "python",
   "name": "python3"
  },
  "language_info": {
   "codemirror_mode": {
    "name": "ipython",
    "version": 3
   },
   "file_extension": ".py",
   "mimetype": "text/x-python",
   "name": "python",
   "nbconvert_exporter": "python",
   "pygments_lexer": "ipython3",
   "version": "3.11.7"
  }
 },
 "nbformat": 4,
 "nbformat_minor": 5
}
